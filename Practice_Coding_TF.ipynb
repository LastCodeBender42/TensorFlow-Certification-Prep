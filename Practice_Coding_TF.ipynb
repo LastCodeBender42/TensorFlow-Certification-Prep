{
  "nbformat": 4,
  "nbformat_minor": 0,
  "metadata": {
    "colab": {
      "provenance": [],
      "authorship_tag": "ABX9TyO+PfJE3RWgy3rXHuMxxc+6",
      "include_colab_link": true
    },
    "kernelspec": {
      "name": "python3",
      "display_name": "Python 3"
    },
    "language_info": {
      "name": "python"
    }
  },
  "cells": [
    {
      "cell_type": "markdown",
      "metadata": {
        "id": "view-in-github",
        "colab_type": "text"
      },
      "source": [
        "<a href=\"https://colab.research.google.com/github/LastCodeBender42/TensorFlow-Notebooks/blob/main/Practice_Coding_TF.ipynb\" target=\"_parent\"><img src=\"https://colab.research.google.com/assets/colab-badge.svg\" alt=\"Open In Colab\"/></a>"
      ]
    },
    {
      "cell_type": "code",
      "source": [
        "import tensorflow as tf"
      ],
      "metadata": {
        "id": "EqWqTkpp6c-F"
      },
      "execution_count": null,
      "outputs": []
    },
    {
      "cell_type": "code",
      "source": [
        "# Create a vector and verify the rank\n",
        "mat=tf.constant([1,2,3,4,5,6])\n",
        "mat, tf.rank(mat)"
      ],
      "metadata": {
        "colab": {
          "base_uri": "https://localhost:8080/"
        },
        "id": "VmqMfIHi9mt0",
        "outputId": "eac8323f-ed13-42a6-f4f1-55f785689610"
      },
      "execution_count": null,
      "outputs": [
        {
          "output_type": "execute_result",
          "data": {
            "text/plain": [
              "(<tf.Tensor: shape=(6,), dtype=int32, numpy=array([1, 2, 3, 4, 5, 6], dtype=int32)>,\n",
              " <tf.Tensor: shape=(), dtype=int32, numpy=1>)"
            ]
          },
          "metadata": {},
          "execution_count": 22
        }
      ]
    },
    {
      "cell_type": "code",
      "source": [
        "# Expand the original vector mat on the first axis and verify rank --> creates a matrix\n",
        "mat2=tf.expand_dims(mat, axis=0)\n",
        "mat2, tf.rank(mat2)"
      ],
      "metadata": {
        "colab": {
          "base_uri": "https://localhost:8080/"
        },
        "id": "CV-h0m2luj5O",
        "outputId": "529b5733-fb41-4674-ffb3-62b3ff6db555"
      },
      "execution_count": null,
      "outputs": [
        {
          "output_type": "execute_result",
          "data": {
            "text/plain": [
              "(<tf.Tensor: shape=(1, 6), dtype=int32, numpy=array([[1, 2, 3, 4, 5, 6]], dtype=int32)>,\n",
              " <tf.Tensor: shape=(), dtype=int32, numpy=2>)"
            ]
          },
          "metadata": {},
          "execution_count": 23
        }
      ]
    },
    {
      "cell_type": "code",
      "source": [
        "# Expand the matrix mat2 on the first axis and verify rank --> creates a tensor\n",
        "mat3=tf.expand_dims(mat2, axis=0)\n",
        "mat3, tf.rank(mat3)"
      ],
      "metadata": {
        "colab": {
          "base_uri": "https://localhost:8080/"
        },
        "id": "MGdVfF7Mv0o-",
        "outputId": "b118686a-cdab-4c86-d0d6-1d38d4f782ca"
      },
      "execution_count": null,
      "outputs": [
        {
          "output_type": "execute_result",
          "data": {
            "text/plain": [
              "(<tf.Tensor: shape=(1, 1, 6), dtype=int32, numpy=array([[[1, 2, 3, 4, 5, 6]]], dtype=int32)>,\n",
              " <tf.Tensor: shape=(), dtype=int32, numpy=3>)"
            ]
          },
          "metadata": {},
          "execution_count": 24
        }
      ]
    },
    {
      "cell_type": "markdown",
      "source": [
        "---"
      ],
      "metadata": {
        "id": "IKanEzWc56HA"
      }
    },
    {
      "cell_type": "code",
      "execution_count": null,
      "metadata": {
        "colab": {
          "base_uri": "https://localhost:8080/"
        },
        "id": "4Efx0me44XNB",
        "outputId": "ac9b33c6-43ff-4ba3-e1de-3910f61dc9f4"
      },
      "outputs": [
        {
          "output_type": "execute_result",
          "data": {
            "text/plain": [
              "(<tf.Tensor: shape=(2, 3), dtype=int32, numpy=\n",
              " array([[1, 2, 3],\n",
              "        [4, 5, 6]], dtype=int32)>,\n",
              " <tf.Tensor: shape=(), dtype=int32, numpy=2>)"
            ]
          },
          "metadata": {},
          "execution_count": 26
        }
      ],
      "source": [
        "# Create a matrix and verify the rank\n",
        "mat=tf.constant([[1,2,3],[4,5,6]])\n",
        "mat, tf.rank(mat)"
      ]
    },
    {
      "cell_type": "code",
      "source": [
        "# Expand the matrix mat on the first axis and verify rank --> creates a tensor\n",
        "mat2=tf.expand_dims(mat, axis=0)\n",
        "mat2, tf.rank(mat2)"
      ],
      "metadata": {
        "colab": {
          "base_uri": "https://localhost:8080/"
        },
        "id": "fs7KvDcI3EKu",
        "outputId": "e0b2f205-07f1-4791-959f-89591f416dbf"
      },
      "execution_count": null,
      "outputs": [
        {
          "output_type": "execute_result",
          "data": {
            "text/plain": [
              "(<tf.Tensor: shape=(1, 2, 3), dtype=int32, numpy=\n",
              " array([[[1, 2, 3],\n",
              "         [4, 5, 6]]], dtype=int32)>,\n",
              " <tf.Tensor: shape=(), dtype=int32, numpy=3>)"
            ]
          },
          "metadata": {},
          "execution_count": 27
        }
      ]
    },
    {
      "cell_type": "code",
      "source": [
        "# Expand the tensor mat2 on the first axis and verify rank\n",
        "mat3=tf.expand_dims(mat2, axis=0)\n",
        "mat3, tf.rank(mat3)"
      ],
      "metadata": {
        "colab": {
          "base_uri": "https://localhost:8080/"
        },
        "id": "Z9kgNP1s3Yoo",
        "outputId": "f627d63a-d0a2-4954-b43e-c7afd2b94965"
      },
      "execution_count": null,
      "outputs": [
        {
          "output_type": "execute_result",
          "data": {
            "text/plain": [
              "(<tf.Tensor: shape=(1, 1, 2, 3), dtype=int32, numpy=\n",
              " array([[[[1, 2, 3],\n",
              "          [4, 5, 6]]]], dtype=int32)>,\n",
              " <tf.Tensor: shape=(), dtype=int32, numpy=4>)"
            ]
          },
          "metadata": {},
          "execution_count": 28
        }
      ]
    },
    {
      "cell_type": "code",
      "source": [
        "# Expand the tensor mat3 on the first axis and verify rank\n",
        "mat4=tf.expand_dims(mat3, axis=0)\n",
        "mat4, tf.rank(mat4)"
      ],
      "metadata": {
        "colab": {
          "base_uri": "https://localhost:8080/"
        },
        "id": "LOIRSghg3yES",
        "outputId": "5453879c-6df1-41fa-95b0-25b9abb8cc6e"
      },
      "execution_count": null,
      "outputs": [
        {
          "output_type": "execute_result",
          "data": {
            "text/plain": [
              "(<tf.Tensor: shape=(1, 1, 1, 2, 3), dtype=int32, numpy=\n",
              " array([[[[[1, 2, 3],\n",
              "           [4, 5, 6]]]]], dtype=int32)>,\n",
              " <tf.Tensor: shape=(), dtype=int32, numpy=5>)"
            ]
          },
          "metadata": {},
          "execution_count": 29
        }
      ]
    },
    {
      "cell_type": "markdown",
      "source": [
        "The dimensions refer to the axes of the tensor, not to the square brackets themselves. Each axis corresponds to a level of nesting in the tensor structure. Here's how the dimensions align with the tensor:\n",
        "\n",
        "- The first dimension (1) corresponds to the outermost set of square brackets.\n",
        "- The second dimension (1) corresponds to the next level of square brackets.\n",
        "- The third dimension (1) corresponds to the next level of square brackets.\n",
        "- The fourth dimension (2) corresponds to the innermost set of square brackets, representing the rows of the matrix.\n",
        "- The fifth dimension (3) corresponds to the elements within each row, representing the columns of the matrix.\n",
        "\n",
        "So, in summary, the shape `(1, 1, 1, 2, 3)` indicates that the tensor has five dimensions, with a single element along each dimension. The last two dimensions (2 and 3) represent the shape of the innermost structure, which is a 2x3 matrix."
      ],
      "metadata": {
        "id": "Z4iI5n213_B7"
      }
    },
    {
      "cell_type": "markdown",
      "source": [
        "---"
      ],
      "metadata": {
        "id": "Ik800q3O5uTz"
      }
    },
    {
      "cell_type": "code",
      "source": [
        "# Create a tensor and verify the shape\n",
        "mat = tf.constant([[[[1,2,3,4],[5,6,7,8]]],[[[9,10,11,12],[13,14,15,16]]]])\n",
        "mat, tf.rank(mat)"
      ],
      "metadata": {
        "colab": {
          "base_uri": "https://localhost:8080/"
        },
        "id": "DAzsFaNx52Gf",
        "outputId": "198c1ad4-23b3-4388-9d12-9c132bb9d21c"
      },
      "execution_count": null,
      "outputs": [
        {
          "output_type": "execute_result",
          "data": {
            "text/plain": [
              "(<tf.Tensor: shape=(2, 1, 2, 4), dtype=int32, numpy=\n",
              " array([[[[ 1,  2,  3,  4],\n",
              "          [ 5,  6,  7,  8]]],\n",
              " \n",
              " \n",
              "        [[[ 9, 10, 11, 12],\n",
              "          [13, 14, 15, 16]]]], dtype=int32)>,\n",
              " <tf.Tensor: shape=(), dtype=int32, numpy=4>)"
            ]
          },
          "metadata": {},
          "execution_count": 53
        }
      ]
    },
    {
      "cell_type": "markdown",
      "source": [
        "The shape `(2, 1, 2, 4)` represents a tensor with four dimensions. Let's break down the interpretation of each dimension:\n",
        "\n",
        "- **First dimension (2)**: This dimension represents the batch size. In this case, there are 2 batches.\n",
        "\n",
        "- **Second dimension (1)**: This dimension represents the number of elements along the first axis.\n",
        "\n",
        "- **Third dimension (2)**: This dimension represents the number of elements along the second axis.\n",
        "\n",
        "- **Fourth dimension (4)**: This dimension represents the number of elements along the third axis.\n",
        "\n",
        "To better understand this shape, let's visualize how the tensor is structured:\n",
        "\n",
        "```\n",
        "[\n",
        "  [  # First batch\n",
        "    [\n",
        "      [  # First element along the second axis\n",
        "        [a, b, c, d],  # First element along the third axis\n",
        "        [e, f, g, h]   # Second element along the third axis\n",
        "      ]\n",
        "    ]\n",
        "  ],\n",
        "  [  # Second batch\n",
        "    [\n",
        "      [  # First element along the second axis\n",
        "        [i, j, k, l],  # First element along the third axis\n",
        "        [m, n, o, p]   # Second element along the third axis\n",
        "      ]\n",
        "    ]\n",
        "  ]\n",
        "]\n",
        "```\n",
        "\n",
        "In this tensor:\n",
        "\n",
        "- There are 2 batches.\n",
        "- Each batch contains a single element along the first axis.\n",
        "- Each element along the first axis consists of 2 elements along the second axis.\n",
        "- Each element along the second axis consists of a 2x4 matrix (4 elements along the third axis)."
      ],
      "metadata": {
        "id": "ZgbCJZk19U97"
      }
    },
    {
      "cell_type": "markdown",
      "source": [
        "---"
      ],
      "metadata": {
        "id": "1Kh78UW67NFI"
      }
    },
    {
      "cell_type": "code",
      "source": [
        "# Create a tensor and verify the shape\n",
        "mat = tf.constant([[[[1,2,3,4],[5,6,7,8]]],[[[9,10,11,12],[13,14,15,16]]],[[[17,18,19,20],[21,22,23,24]]]])\n",
        "mat, tf.rank(mat)"
      ],
      "metadata": {
        "colab": {
          "base_uri": "https://localhost:8080/"
        },
        "id": "4mYZ4EKm9fDv",
        "outputId": "fe925919-10c5-457a-d69c-968b5f7e405f"
      },
      "execution_count": null,
      "outputs": [
        {
          "output_type": "execute_result",
          "data": {
            "text/plain": [
              "(<tf.Tensor: shape=(3, 1, 2, 4), dtype=int32, numpy=\n",
              " array([[[[ 1,  2,  3,  4],\n",
              "          [ 5,  6,  7,  8]]],\n",
              " \n",
              " \n",
              "        [[[ 9, 10, 11, 12],\n",
              "          [13, 14, 15, 16]]],\n",
              " \n",
              " \n",
              "        [[[17, 18, 19, 20],\n",
              "          [21, 22, 23, 24]]]], dtype=int32)>,\n",
              " <tf.Tensor: shape=(), dtype=int32, numpy=4>)"
            ]
          },
          "metadata": {},
          "execution_count": 52
        }
      ]
    },
    {
      "cell_type": "markdown",
      "source": [
        "The provided tensor is a 4-dimensional tensor. Let's break down its structure and interpret its shape `(3, 1, 2, 4)`:\n",
        "\n",
        "- **First dimension (3)**: This dimension represents the batch size. In this case, there are 3 batches.\n",
        "\n",
        "- **Second dimension (1)**: This dimension represents the number of elements along the first axis.\n",
        "\n",
        "- **Third dimension (2)**: This dimension represents the number of elements along the second axis.\n",
        "\n",
        "- **Fourth dimension (4)**: This dimension represents the number of elements along the third axis.\n",
        "\n",
        "To visualize the structure of the tensor:\n",
        "\n",
        "```\n",
        "[\n",
        "  [  # First batch\n",
        "    [  # First element along the second axis\n",
        "      [1, 2, 3, 4],  # First element along the third axis\n",
        "      [5, 6, 7, 8]   # Second element along the third axis\n",
        "    ]\n",
        "  ],\n",
        "  [  # Second batch\n",
        "    [  # First element along the second axis\n",
        "      [9, 10, 11, 12],  # First element along the third axis\n",
        "      [13, 14, 15, 16]  # Second element along the third axis\n",
        "    ]\n",
        "  ],\n",
        "  [  # Third batch\n",
        "    [  # First element along the second axis\n",
        "      [17, 18, 19, 20],  # First element along the third axis\n",
        "      [21, 22, 23, 24]   # Second element along the third axis\n",
        "    ]\n",
        "  ]\n",
        "]\n",
        "```\n",
        "\n",
        "In this tensor:\n",
        "\n",
        "- There are 3 batches.\n",
        "- Each batch contains a single element along the first axis.\n",
        "- Each element along the first axis consists of 2 elements along the second axis.\n",
        "- Each element along the second axis consists of a 2x4 matrix (4 elements along the third axis)."
      ],
      "metadata": {
        "id": "oznKwL4A9vws"
      }
    },
    {
      "cell_type": "markdown",
      "source": [
        "---"
      ],
      "metadata": {
        "id": "IfUj6cg19_UU"
      }
    },
    {
      "cell_type": "code",
      "source": [
        "tensor=tf.constant([1,2,3,4,5,6])\n",
        "new_shape = (2, 3)  # Example new shape: 2 rows, 3 columns\n",
        "reshaped_tensor = tf.reshape(tensor, (2, 3))\n",
        "reshaped_tensor\n"
      ],
      "metadata": {
        "colab": {
          "base_uri": "https://localhost:8080/"
        },
        "outputId": "a8309cda-0a96-4af4-e511-d07a1e402ed6",
        "id": "oHORCrdA-kRy"
      },
      "execution_count": null,
      "outputs": [
        {
          "output_type": "execute_result",
          "data": {
            "text/plain": [
              "<tf.Tensor: shape=(2, 3), dtype=int32, numpy=\n",
              "array([[1, 2, 3],\n",
              "       [4, 5, 6]], dtype=int32)>"
            ]
          },
          "metadata": {},
          "execution_count": 51
        }
      ]
    },
    {
      "cell_type": "code",
      "source": [
        "tensor = tf.constant([[[[1,2,3,4],[5,6,7,8]]],[[[9,10,11,12],[13,14,15,16]]],[[[17,18,19,20],[21,22,23,24]]]])\n",
        "tf.shape(tensor), tf.reshape(tensor, (1,3,2,4))"
      ],
      "metadata": {
        "colab": {
          "base_uri": "https://localhost:8080/"
        },
        "id": "FhKFWOw9-2LK",
        "outputId": "19c92cb6-460c-4e06-e66e-56a033e11a5d"
      },
      "execution_count": null,
      "outputs": [
        {
          "output_type": "execute_result",
          "data": {
            "text/plain": [
              "(<tf.Tensor: shape=(4,), dtype=int32, numpy=array([3, 1, 2, 4], dtype=int32)>,\n",
              " <tf.Tensor: shape=(1, 3, 2, 4), dtype=int32, numpy=\n",
              " array([[[[ 1,  2,  3,  4],\n",
              "          [ 5,  6,  7,  8]],\n",
              " \n",
              "         [[ 9, 10, 11, 12],\n",
              "          [13, 14, 15, 16]],\n",
              " \n",
              "         [[17, 18, 19, 20],\n",
              "          [21, 22, 23, 24]]]], dtype=int32)>)"
            ]
          },
          "metadata": {},
          "execution_count": 60
        }
      ]
    },
    {
      "cell_type": "code",
      "source": [
        "tensor = tf.constant([[[[1,2,3,4],[5,6,7,8]]],[[[9,10,11,12],[13,14,15,16]]],[[[17,18,19,20],[21,22,23,24]]]])\n",
        "tf.reshape(tensor, (1,1,6,4))"
      ],
      "metadata": {
        "colab": {
          "base_uri": "https://localhost:8080/"
        },
        "id": "84wKqQysALuE",
        "outputId": "9acd468e-9f15-4e4d-e622-d6b83ede0a8c"
      },
      "execution_count": null,
      "outputs": [
        {
          "output_type": "execute_result",
          "data": {
            "text/plain": [
              "<tf.Tensor: shape=(1, 1, 6, 4), dtype=int32, numpy=\n",
              "array([[[[ 1,  2,  3,  4],\n",
              "         [ 5,  6,  7,  8],\n",
              "         [ 9, 10, 11, 12],\n",
              "         [13, 14, 15, 16],\n",
              "         [17, 18, 19, 20],\n",
              "         [21, 22, 23, 24]]]], dtype=int32)>"
            ]
          },
          "metadata": {},
          "execution_count": 58
        }
      ]
    },
    {
      "cell_type": "code",
      "source": [
        "tensor = tf.constant([[[[1,2,3,4],[5,6,7,8]]],[[[9,10,11,12],[13,14,15,16]]],[[[17,18,19,20],[21,22,23,24]]]])\n",
        "tf.reshape(tensor, (1,6,4))"
      ],
      "metadata": {
        "colab": {
          "base_uri": "https://localhost:8080/"
        },
        "id": "kx8EbOApAoP-",
        "outputId": "c077cc37-67d4-409e-9375-ddc7fcc102c2"
      },
      "execution_count": null,
      "outputs": [
        {
          "output_type": "execute_result",
          "data": {
            "text/plain": [
              "<tf.Tensor: shape=(1, 6, 4), dtype=int32, numpy=\n",
              "array([[[ 1,  2,  3,  4],\n",
              "        [ 5,  6,  7,  8],\n",
              "        [ 9, 10, 11, 12],\n",
              "        [13, 14, 15, 16],\n",
              "        [17, 18, 19, 20],\n",
              "        [21, 22, 23, 24]]], dtype=int32)>"
            ]
          },
          "metadata": {},
          "execution_count": 59
        }
      ]
    },
    {
      "cell_type": "code",
      "source": [
        "tensor = tf.constant([[[[1,2,3,4],[5,6,7,8]]],[[[9,10,11,12],[13,14,15,16]]],[[[17,18,19,20],[21,22,23,24]]]])\n",
        "tf.reshape(tensor, (6,4))"
      ],
      "metadata": {
        "colab": {
          "base_uri": "https://localhost:8080/"
        },
        "id": "9NNWLM9ZAuwA",
        "outputId": "96327ce1-4ac0-43b6-f5b7-349fa77cefde"
      },
      "execution_count": null,
      "outputs": [
        {
          "output_type": "execute_result",
          "data": {
            "text/plain": [
              "<tf.Tensor: shape=(6, 4), dtype=int32, numpy=\n",
              "array([[ 1,  2,  3,  4],\n",
              "       [ 5,  6,  7,  8],\n",
              "       [ 9, 10, 11, 12],\n",
              "       [13, 14, 15, 16],\n",
              "       [17, 18, 19, 20],\n",
              "       [21, 22, 23, 24]], dtype=int32)>"
            ]
          },
          "metadata": {},
          "execution_count": 61
        }
      ]
    },
    {
      "cell_type": "code",
      "source": [
        "tensor = tf.constant([[[[1,2,3,4],[5,6,7,8]]],[[[9,10,11,12],[13,14,15,16]]],[[[17,18,19,20],[21,22,23,24]]]])\n",
        "tf.reshape(tensor, (2,12)), tf.reshape(tensor, (1,24)), tf.reshape(tensor, (24))"
      ],
      "metadata": {
        "colab": {
          "base_uri": "https://localhost:8080/"
        },
        "id": "yO7FVx2VBaBO",
        "outputId": "c14dc56a-6d56-4c30-ac00-cc8be728cbdc"
      },
      "execution_count": null,
      "outputs": [
        {
          "output_type": "execute_result",
          "data": {
            "text/plain": [
              "(<tf.Tensor: shape=(2, 12), dtype=int32, numpy=\n",
              " array([[ 1,  2,  3,  4,  5,  6,  7,  8,  9, 10, 11, 12],\n",
              "        [13, 14, 15, 16, 17, 18, 19, 20, 21, 22, 23, 24]], dtype=int32)>,\n",
              " <tf.Tensor: shape=(1, 24), dtype=int32, numpy=\n",
              " array([[ 1,  2,  3,  4,  5,  6,  7,  8,  9, 10, 11, 12, 13, 14, 15, 16,\n",
              "         17, 18, 19, 20, 21, 22, 23, 24]], dtype=int32)>,\n",
              " <tf.Tensor: shape=(24,), dtype=int32, numpy=\n",
              " array([ 1,  2,  3,  4,  5,  6,  7,  8,  9, 10, 11, 12, 13, 14, 15, 16, 17,\n",
              "        18, 19, 20, 21, 22, 23, 24], dtype=int32)>)"
            ]
          },
          "metadata": {},
          "execution_count": 65
        }
      ]
    },
    {
      "cell_type": "markdown",
      "source": [
        "---"
      ],
      "metadata": {
        "id": "41rCo0LhBf8W"
      }
    },
    {
      "cell_type": "code",
      "source": [
        "import numpy as np\n",
        "import tensorflow as tf\n",
        "\n",
        "# Generate synthetic data\n",
        "np.random.seed(0)\n",
        "X = np.random.rand(100, 3)  # Generate 100 random samples with 3 features each\n",
        "true_weights = np.random.rand(3)  # Generate random true weights\n",
        "true_bias = np.random.rand()  # Generate random true bias\n",
        "y = np.dot(X, true_weights) + true_bias  # Generate corresponding output labels for linear regression\n",
        "\n",
        "# Define the linear regression model\n",
        "model = tf.keras.Sequential([\n",
        "    tf.keras.layers.Dense(units=1, input_shape=[3])  # Single dense layer for linear regression with input shape of [3]\n",
        "])\n",
        "\n",
        "# Compile the model\n",
        "model.compile(optimizer='sgd', loss='mean_squared_error')\n",
        "\n",
        "# Train the model\n",
        "model.fit(X, y, epochs=1000, verbose=0)  # Train for 1000 epochs\n",
        "\n",
        "# Get the learned weights and bias\n",
        "learned_weights, learned_bias = model.get_weights()\n",
        "\n",
        "# Print the learned weights and bias\n",
        "print(\"True Weights:\", true_weights)\n",
        "print(\"Learned Weights:\", learned_weights)\n",
        "print(\"True Bias:\", true_bias)\n",
        "print(\"Learned Bias:\", learned_bias)\n"
      ],
      "metadata": {
        "colab": {
          "base_uri": "https://localhost:8080/"
        },
        "id": "nPAefHSkwyZY",
        "outputId": "525b6093-28d4-4298-dcc8-096526594c68"
      },
      "execution_count": null,
      "outputs": [
        {
          "output_type": "stream",
          "name": "stdout",
          "text": [
            "True Weights: [0.9065555  0.77404733 0.33314515]\n",
            "Learned Weights: [[0.9069988]\n",
            " [0.7718629]\n",
            " [0.329194 ]]\n",
            "True Bias: 0.08110138998799676\n",
            "Learned Bias: [0.08410087]\n"
          ]
        }
      ]
    },
    {
      "cell_type": "code",
      "source": [
        "from sklearn.metrics import mean_squared_error, mean_absolute_error, r2_score\n",
        "\n",
        "# Make predictions on the training data\n",
        "y_pred = model.predict(X)\n",
        "\n",
        "# Calculate mean squared error (MSE)\n",
        "mse = mean_squared_error(y, y_pred)\n",
        "\n",
        "# Calculate mean absolute error (MAE)\n",
        "mae = mean_absolute_error(y, y_pred)\n",
        "\n",
        "# Calculate R^2 score\n",
        "r2 = r2_score(y, y_pred)\n",
        "\n",
        "# Print the error metrics\n",
        "print(\"Mean Squared Error (MSE):\", mse)\n",
        "print(\"Mean Absolute Error (MAE):\", mae)\n",
        "print(\"R^2 Score:\", r2)\n"
      ],
      "metadata": {
        "colab": {
          "base_uri": "https://localhost:8080/"
        },
        "id": "WyL2C756w10r",
        "outputId": "1e54556b-ae0e-4c2c-db06-ff1f5769c335"
      },
      "execution_count": null,
      "outputs": [
        {
          "output_type": "stream",
          "name": "stdout",
          "text": [
            "4/4 [==============================] - 0s 2ms/step\n",
            "Mean Squared Error (MSE): 1.4872090415010522e-06\n",
            "Mean Absolute Error (MAE): 0.000996864702538301\n",
            "R^2 Score: 0.9999891245479309\n"
          ]
        }
      ]
    },
    {
      "cell_type": "code",
      "source": [
        "true_weights"
      ],
      "metadata": {
        "colab": {
          "base_uri": "https://localhost:8080/"
        },
        "id": "8STA0jdfxN27",
        "outputId": "3b7d24dd-7c9d-433f-c552-d9aca968064b"
      },
      "execution_count": null,
      "outputs": [
        {
          "output_type": "execute_result",
          "data": {
            "text/plain": [
              "array([2, 3, 4])"
            ]
          },
          "metadata": {},
          "execution_count": 7
        }
      ]
    },
    {
      "cell_type": "code",
      "source": [],
      "metadata": {
        "id": "pwds5YTM1Le_"
      },
      "execution_count": null,
      "outputs": []
    }
  ]
}