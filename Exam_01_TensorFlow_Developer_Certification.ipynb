{
  "nbformat": 4,
  "nbformat_minor": 0,
  "metadata": {
    "colab": {
      "provenance": [],
      "authorship_tag": "ABX9TyPcIKbVt7HegeZSww5UyG+1",
      "include_colab_link": true
    },
    "kernelspec": {
      "name": "python3",
      "display_name": "Python 3"
    },
    "language_info": {
      "name": "python"
    }
  },
  "cells": [
    {
      "cell_type": "markdown",
      "metadata": {
        "id": "view-in-github",
        "colab_type": "text"
      },
      "source": [
        "<a href=\"https://colab.research.google.com/github/LastCodeBender42/TensorFlow-Certification-Prep/blob/main/Exam_01_TensorFlow_Developer_Certification.ipynb\" target=\"_parent\"><img src=\"https://colab.research.google.com/assets/colab-badge.svg\" alt=\"Open In Colab\"/></a>"
      ]
    },
    {
      "cell_type": "markdown",
      "source": [
        "# Exam 01 TensorFlow Certification\n",
        "\n",
        "### Basic Tensor Operations\n",
        "**Question 1.1**: Create a tensor of shape `(4, 4)` with random values. Compute the element-wise square of this tensor and then compute the mean of all the elements."
      ],
      "metadata": {
        "id": "qaEvaXTrxrSb"
      }
    },
    {
      "cell_type": "code",
      "source": [],
      "metadata": {
        "id": "yvCIAYvUx2QH"
      },
      "execution_count": null,
      "outputs": []
    }
  ]
}