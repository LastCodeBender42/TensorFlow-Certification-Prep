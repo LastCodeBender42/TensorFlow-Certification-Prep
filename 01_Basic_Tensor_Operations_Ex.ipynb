{
  "nbformat": 4,
  "nbformat_minor": 0,
  "metadata": {
    "colab": {
      "provenance": [],
      "authorship_tag": "ABX9TyNxiPYobos3N/GDOYIAMdig",
      "include_colab_link": true
    },
    "kernelspec": {
      "name": "python3",
      "display_name": "Python 3"
    },
    "language_info": {
      "name": "python"
    }
  },
  "cells": [
    {
      "cell_type": "markdown",
      "metadata": {
        "id": "view-in-github",
        "colab_type": "text"
      },
      "source": [
        "<a href=\"https://colab.research.google.com/github/LastCodeBender42/TensorFlow-Certification-Prep/blob/main/01_Basic_Tensor_Operations_Ex.ipynb\" target=\"_parent\"><img src=\"https://colab.research.google.com/assets/colab-badge.svg\" alt=\"Open In Colab\"/></a>"
      ]
    },
    {
      "cell_type": "code",
      "source": [
        "import tensorflow as tf\n",
        "import numpy as np"
      ],
      "metadata": {
        "id": "wuTtwk7H_a4X"
      },
      "execution_count": null,
      "outputs": []
    },
    {
      "cell_type": "markdown",
      "source": [
        "# 1. **Basic Tensor Operations**"
      ],
      "metadata": {
        "id": "zEbrTtER_K4B"
      }
    },
    {
      "cell_type": "markdown",
      "source": [
        "### **Exercise 1.1**: Create a TensorFlow tensor with a shape of `(3, 3)` and initialize it with random values. Perform basic operations such as addition, subtraction, multiplication, and division on this tensor.\n",
        "\n",
        "```python\n",
        "import tensorflow as tf\n",
        "\n",
        "tensor = tf.random.uniform((3, 3))\n",
        "\n",
        "# Basic operations\n",
        "add_result = tensor + 1\n",
        "sub_result = tensor - 1\n",
        "mul_result = tensor * 2\n",
        "div_result = tensor / 2\n",
        "```"
      ],
      "metadata": {
        "id": "Bavw4ARi_L5Z"
      }
    },
    {
      "cell_type": "code",
      "source": [
        "tensor = tf.random.uniform((3, 3))\n",
        "print(tensor)"
      ],
      "metadata": {
        "colab": {
          "base_uri": "https://localhost:8080/"
        },
        "id": "DpbIkahV_XVG",
        "outputId": "1753dd8f-c435-4898-b478-5a4d52700309"
      },
      "execution_count": null,
      "outputs": [
        {
          "output_type": "stream",
          "name": "stdout",
          "text": [
            "tf.Tensor(\n",
            "[[0.5447719  0.34592664 0.9700761 ]\n",
            " [0.02648783 0.6058005  0.5102856 ]\n",
            " [0.24757922 0.24412417 0.8933885 ]], shape=(3, 3), dtype=float32)\n"
          ]
        }
      ]
    },
    {
      "cell_type": "code",
      "source": [
        "addition = tensor + 1\n",
        "print(addition)"
      ],
      "metadata": {
        "colab": {
          "base_uri": "https://localhost:8080/"
        },
        "id": "FYpt0HfiADNL",
        "outputId": "37a8830d-8f32-464f-89a6-cdb9a946dc01"
      },
      "execution_count": null,
      "outputs": [
        {
          "output_type": "stream",
          "name": "stdout",
          "text": [
            "tf.Tensor(\n",
            "[[1.5447719 1.3459266 1.9700761]\n",
            " [1.0264878 1.6058005 1.5102856]\n",
            " [1.2475792 1.2441242 1.8933885]], shape=(3, 3), dtype=float32)\n"
          ]
        }
      ]
    },
    {
      "cell_type": "code",
      "source": [
        "subtraction = tensor - 1\n",
        "print(subtraction)"
      ],
      "metadata": {
        "colab": {
          "base_uri": "https://localhost:8080/"
        },
        "id": "KVc2TwwGAhu0",
        "outputId": "fc01e9f0-0cf1-427d-95d3-66238911bb41"
      },
      "execution_count": null,
      "outputs": [
        {
          "output_type": "stream",
          "name": "stdout",
          "text": [
            "tf.Tensor(\n",
            "[[-0.4552281  -0.65407336 -0.02992392]\n",
            " [-0.9735122  -0.3941995  -0.48971438]\n",
            " [-0.7524208  -0.7558758  -0.10661149]], shape=(3, 3), dtype=float32)\n"
          ]
        }
      ]
    },
    {
      "cell_type": "code",
      "source": [
        "multiplication = tensor * 2\n",
        "print(multiplication)"
      ],
      "metadata": {
        "colab": {
          "base_uri": "https://localhost:8080/"
        },
        "id": "EOsQOSjYAoAT",
        "outputId": "3ff7bcbb-8471-4b14-d4eb-ce9595147e26"
      },
      "execution_count": null,
      "outputs": [
        {
          "output_type": "stream",
          "name": "stdout",
          "text": [
            "tf.Tensor(\n",
            "[[1.0895438  0.6918533  1.9401522 ]\n",
            " [0.05297565 1.211601   1.0205712 ]\n",
            " [0.49515843 0.48824835 1.786777  ]], shape=(3, 3), dtype=float32)\n"
          ]
        }
      ]
    },
    {
      "cell_type": "code",
      "source": [
        "division = tensor / 2\n",
        "print(division)"
      ],
      "metadata": {
        "colab": {
          "base_uri": "https://localhost:8080/"
        },
        "id": "wiaN-ngAAsH9",
        "outputId": "967b447d-59ae-4a52-ef0a-59620407dc62"
      },
      "execution_count": null,
      "outputs": [
        {
          "output_type": "stream",
          "name": "stdout",
          "text": [
            "tf.Tensor(\n",
            "[[0.27238595 0.17296332 0.48503804]\n",
            " [0.01324391 0.30290025 0.2551428 ]\n",
            " [0.12378961 0.12206209 0.44669425]], shape=(3, 3), dtype=float32)\n"
          ]
        }
      ]
    },
    {
      "cell_type": "markdown",
      "source": [
        "### **Exercise 1.2**: Create a tensor with a shape of `(4, 4)` and use TensorFlow functions to reshape it into a `(2, 8)` tensor. Verify the reshaped tensor’s shape.\n",
        "\n",
        "```python\n",
        "import tensorflow as tf\n",
        "\n",
        "tensor = tf.random.uniform((4, 4))\n",
        "\n",
        "# Reshape\n",
        "reshaped_tensor = tf.reshape(tensor, (2, 8))\n",
        "```\n"
      ],
      "metadata": {
        "id": "9cjyAHSDBF76"
      }
    },
    {
      "cell_type": "code",
      "source": [
        "tensor = tf.random.uniform((4, 4))\n",
        "print(tensor)"
      ],
      "metadata": {
        "colab": {
          "base_uri": "https://localhost:8080/"
        },
        "id": "iF_t9d3FBKJm",
        "outputId": "6530df6b-ea0a-4806-c8d1-4b759cdba429"
      },
      "execution_count": null,
      "outputs": [
        {
          "output_type": "stream",
          "name": "stdout",
          "text": [
            "tf.Tensor(\n",
            "[[0.34866953 0.77890337 0.571784   0.8423252 ]\n",
            " [0.479416   0.09513104 0.17833817 0.96039426]\n",
            " [0.0445652  0.39942813 0.65387285 0.28827584]\n",
            " [0.7688081  0.71405697 0.8793558  0.8422322 ]], shape=(4, 4), dtype=float32)\n"
          ]
        }
      ]
    },
    {
      "cell_type": "code",
      "source": [
        "reshaped_tensor = tf.reshape(tensor, (2, 8))\n",
        "print(reshaped_tensor)"
      ],
      "metadata": {
        "colab": {
          "base_uri": "https://localhost:8080/"
        },
        "id": "y-IIBljZCJTP",
        "outputId": "23e4ce30-b659-4666-b3b3-2a4dd89fd9fc"
      },
      "execution_count": null,
      "outputs": [
        {
          "output_type": "stream",
          "name": "stdout",
          "text": [
            "tf.Tensor(\n",
            "[[0.34866953 0.77890337 0.571784   0.8423252  0.479416   0.09513104\n",
            "  0.17833817 0.96039426]\n",
            " [0.0445652  0.39942813 0.65387285 0.28827584 0.7688081  0.71405697\n",
            "  0.8793558  0.8422322 ]], shape=(2, 8), dtype=float32)\n"
          ]
        }
      ]
    },
    {
      "cell_type": "markdown",
      "source": [
        "### **Exercise 1.3**: Implement broadcasting by adding a 1D tensor of shape `(3,)` to a 2D tensor of shape `(3, 3)`.\n",
        "\n",
        "```python\n",
        "import tensorflow as tf\n",
        "\n",
        "tensor_2d = tf.random.uniform((3, 3))\n",
        "tensor_1d = tf.constant([1, 2, 3])\n",
        "\n",
        "# Broadcasting\n",
        "result = tensor_2d + tensor_1d\n",
        "```"
      ],
      "metadata": {
        "id": "mIv6L1XXCeaz"
      }
    },
    {
      "cell_type": "code",
      "source": [
        "tensor_2d = tf.random.uniform((3, 3),dtype=tf.float32)\n",
        "tensor_1d = tf.constant([1, 2, 3],dtype=tf.float32)\n",
        "\n",
        "# Broadcasting\n",
        "result = tensor_2d + tensor_1d\n",
        "\n",
        "print(\"\\nThe 2d tensor:\")\n",
        "print(tensor_2d)\n",
        "print(\"\\nThe 1d tensor:\")\n",
        "print(tensor_1d)\n",
        "print(\"\\nThe result of the broadcasting:\")\n",
        "print(result)"
      ],
      "metadata": {
        "colab": {
          "base_uri": "https://localhost:8080/"
        },
        "id": "zLCoNAuoDE4V",
        "outputId": "f7e57011-7b66-4908-beb9-bdcee67a0577"
      },
      "execution_count": null,
      "outputs": [
        {
          "output_type": "stream",
          "name": "stdout",
          "text": [
            "\n",
            "The 2d tensor:\n",
            "tf.Tensor(\n",
            "[[0.68652344 0.07966292 0.7592844 ]\n",
            " [0.6899688  0.7968639  0.4561032 ]\n",
            " [0.9190253  0.17476869 0.28766477]], shape=(3, 3), dtype=float32)\n",
            "\n",
            "The 1d tensor:\n",
            "tf.Tensor([1. 2. 3.], shape=(3,), dtype=float32)\n",
            "\n",
            "The result of the broadcasting:\n",
            "tf.Tensor(\n",
            "[[1.6865234 2.0796628 3.7592845]\n",
            " [1.6899688 2.796864  3.4561033]\n",
            " [1.9190253 2.1747687 3.287665 ]], shape=(3, 3), dtype=float32)\n"
          ]
        }
      ]
    },
    {
      "cell_type": "markdown",
      "source": [
        "### **Exercise 1.4**: Create a 3D tensor of shape `(2, 3, 4)` with random values and compute its mean along the first axis.\n",
        "\n",
        "```python\n",
        "import tensorflow as tf\n",
        "\n",
        "tensor = tf.random.uniform((2, 3, 4))\n",
        "mean_result = tf.reduce_mean(tensor, axis=0)\n",
        "print(mean_result)\n",
        "```"
      ],
      "metadata": {
        "id": "V-yolkx6Gt-7"
      }
    },
    {
      "cell_type": "code",
      "source": [
        "tensor = tf.random.uniform((2,3,4),dtype=tf.float32)\n",
        "print(tensor)\n",
        "print(\"\\n\")\n",
        "mean_result = tf.reduce_mean(tensor, axis=0)\n",
        "print(mean_result)"
      ],
      "metadata": {
        "colab": {
          "base_uri": "https://localhost:8080/"
        },
        "id": "0SQlSyTSGvRj",
        "outputId": "15710f20-b67e-40ff-cfc2-9888fcf517c4"
      },
      "execution_count": null,
      "outputs": [
        {
          "output_type": "stream",
          "name": "stdout",
          "text": [
            "tf.Tensor(\n",
            "[[[0.5542735  0.314996   0.638111   0.14362872]\n",
            "  [0.29933417 0.11891592 0.34602952 0.29040265]\n",
            "  [0.22507727 0.93163526 0.32360995 0.76137304]]\n",
            "\n",
            " [[0.98418534 0.03321695 0.04477477 0.81922424]\n",
            "  [0.86157894 0.02341616 0.95956933 0.40995634]\n",
            "  [0.56845367 0.16571736 0.78648114 0.75783205]]], shape=(2, 3, 4), dtype=float32)\n",
            "\n",
            "\n",
            "tf.Tensor(\n",
            "[[0.7692294  0.17410648 0.34144288 0.48142648]\n",
            " [0.58045655 0.07116604 0.6527994  0.3501795 ]\n",
            " [0.39676547 0.5486763  0.55504555 0.75960255]], shape=(3, 4), dtype=float32)\n"
          ]
        }
      ]
    },
    {
      "cell_type": "markdown",
      "source": [
        "### **Exercise 1.5**: Create two tensors of shape `(5, 5)` and perform element-wise subtraction. Ensure that both tensors are of the same data type.\n",
        "\n",
        "```python\n",
        "import tensorflow as tf\n",
        "\n",
        "tensor1 = tf.random.uniform((5, 5))\n",
        "tensor2 = tf.random.uniform((5, 5))\n",
        "sub_result = tensor1 - tensor2\n",
        "print(sub_result)\n",
        "```"
      ],
      "metadata": {
        "id": "WG4yAFJyNGtJ"
      }
    },
    {
      "cell_type": "code",
      "source": [
        "tensor_1 = tf.random.uniform((5,5),dtype=tf.float32)\n",
        "tensor_2 = tf.random.uniform((5,5),dtype=tf.float32)\n",
        "tensor = tensor_1 - tensor_2\n",
        "print(tensor)"
      ],
      "metadata": {
        "colab": {
          "base_uri": "https://localhost:8080/"
        },
        "id": "_xh5e8wbNL-r",
        "outputId": "85a60128-d895-466b-c658-d286a3055a2f"
      },
      "execution_count": null,
      "outputs": [
        {
          "output_type": "stream",
          "name": "stdout",
          "text": [
            "tf.Tensor(\n",
            "[[ 0.03186798 -0.83264554  0.09980607  0.4052782  -0.20020962]\n",
            " [ 0.5847888  -0.20748603 -0.07569504 -0.3127364   0.3367715 ]\n",
            " [-0.05200255  0.75205183 -0.28210914  0.59101033 -0.09743357]\n",
            " [-0.4948579  -0.38992333 -0.57157314  0.46262193  0.03320003]\n",
            " [-0.05695426 -0.04780149  0.04279864 -0.44929898  0.03484702]], shape=(5, 5), dtype=float32)\n"
          ]
        }
      ]
    },
    {
      "cell_type": "markdown",
      "source": [
        "### **Exercise 1.6**: Create a tensor of shape `(3, 3)` initialized with zeros and another tensor of the same shape initialized with ones. Perform element-wise multiplication.\n",
        "\n",
        "```python\n",
        "import tensorflow as tf\n",
        "\n",
        "zeros_tensor = tf.zeros((3, 3))\n",
        "ones_tensor = tf.ones((3, 3))\n",
        "mul_result = zeros_tensor * ones_tensor\n",
        "print(mul_result)\n",
        "```"
      ],
      "metadata": {
        "id": "GGRhdZozNozj"
      }
    },
    {
      "cell_type": "code",
      "source": [
        "zeros_tensor = tf.zeros((3, 3))\n",
        "ones_tensor = tf.ones((3, 3))\n",
        "mul_result = zeros_tensor * ones_tensor\n",
        "print(mul_result)"
      ],
      "metadata": {
        "colab": {
          "base_uri": "https://localhost:8080/"
        },
        "id": "gd86I-9bNq3S",
        "outputId": "bb051778-5f9a-4100-fb84-b3e19d2a3f95"
      },
      "execution_count": null,
      "outputs": [
        {
          "output_type": "stream",
          "name": "stdout",
          "text": [
            "tf.Tensor(\n",
            "[[0. 0. 0.]\n",
            " [0. 0. 0.]\n",
            " [0. 0. 0.]], shape=(3, 3), dtype=float32)\n"
          ]
        }
      ]
    },
    {
      "cell_type": "markdown",
      "source": [
        "#### **NOTE:** Alternatively I could have used:\n"
      ],
      "metadata": {
        "id": "aLSa7MCmP-HG"
      }
    },
    {
      "cell_type": "code",
      "source": [
        "shape = (3, 3)\n",
        "zeros_tensor = tf.fill(shape, 0)\n",
        "shape = (3, 3)\n",
        "ones_tensor = tf.fill(shape, 1)\n",
        "result = zeros_tensor * ones_tensor\n",
        "print(result)"
      ],
      "metadata": {
        "colab": {
          "base_uri": "https://localhost:8080/"
        },
        "id": "sYk2TThhPJ35",
        "outputId": "fef2ce76-fc22-4628-a451-7190f8397506"
      },
      "execution_count": null,
      "outputs": [
        {
          "output_type": "stream",
          "name": "stdout",
          "text": [
            "tf.Tensor(\n",
            "[[0 0 0]\n",
            " [0 0 0]\n",
            " [0 0 0]], shape=(3, 3), dtype=int32)\n"
          ]
        }
      ]
    },
    {
      "cell_type": "markdown",
      "source": [
        "### **Exercise 1.7**: Create a tensor of shape `(4, 4)` with random integers between 1 and 10. Find the maximum value in each row.\n",
        "\n",
        "```python\n",
        "import tensorflow as tf\n",
        "\n",
        "tensor = tf.random.uniform((4, 4), minval=1, maxval=10, dtype=tf.int32)\n",
        "max_per_row = tf.reduce_max(tensor, axis=1)\n",
        "print(max_per_row)\n",
        "```"
      ],
      "metadata": {
        "id": "xcrS3G8XQfcv"
      }
    },
    {
      "cell_type": "code",
      "source": [
        "tensor = tf.random.uniform((4, 4), minval=1, maxval=10, dtype=tf.int32)\n",
        "print(tensor)\n",
        "max_values = tf.reduce_max(tensor, axis=1)\n",
        "print(\"\\n\")\n",
        "print(max_values)"
      ],
      "metadata": {
        "colab": {
          "base_uri": "https://localhost:8080/"
        },
        "id": "oiw1WJyJQY23",
        "outputId": "1bc59435-3131-40ff-96af-bdd09d4b12e4"
      },
      "execution_count": null,
      "outputs": [
        {
          "output_type": "stream",
          "name": "stdout",
          "text": [
            "tf.Tensor(\n",
            "[[2 1 5 7]\n",
            " [2 5 5 2]\n",
            " [5 8 8 7]\n",
            " [7 9 9 4]], shape=(4, 4), dtype=int32)\n",
            "\n",
            "\n",
            "tf.Tensor([7 5 8 9], shape=(4,), dtype=int32)\n"
          ]
        }
      ]
    },
    {
      "cell_type": "markdown",
      "source": [
        "### **Exercise 1.8**: Create a tensor of shape `(3, 3)` and transpose it. Verify the shape of the transposed tensor.\n",
        "\n",
        "```python\n",
        "import tensorflow as tf\n",
        "\n",
        "tensor = tf.random.uniform((3, 3))\n",
        "transposed_tensor = tf.transpose(tensor)\n",
        "print(transposed_tensor)\n",
        "```"
      ],
      "metadata": {
        "id": "cPZOjPdPIWQT"
      }
    },
    {
      "cell_type": "code",
      "source": [
        "|tensor = tf.random.uniform((3, 3))\n",
        "print(tensor)\n",
        "print(\"\\n\")\n",
        "transposed_tensor = tf.transpose(tensor)\n",
        "print(transposed_tensor)"
      ],
      "metadata": {
        "colab": {
          "base_uri": "https://localhost:8080/"
        },
        "id": "L7HBNQNYIekx",
        "outputId": "177bc54b-464a-4620-d5cf-23a2da046b9e"
      },
      "execution_count": null,
      "outputs": [
        {
          "output_type": "stream",
          "name": "stdout",
          "text": [
            "tf.Tensor(\n",
            "[[0.40123785 0.40710688 0.04617584]\n",
            " [0.49625254 0.08450532 0.5161176 ]\n",
            " [0.821808   0.61926293 0.07169294]], shape=(3, 3), dtype=float32)\n",
            "\n",
            "\n",
            "tf.Tensor(\n",
            "[[0.40123785 0.49625254 0.821808  ]\n",
            " [0.40710688 0.08450532 0.61926293]\n",
            " [0.04617584 0.5161176  0.07169294]], shape=(3, 3), dtype=float32)\n"
          ]
        }
      ]
    },
    {
      "cell_type": "markdown",
      "source": [
        "### **Exercise 1.9**: Create a tensor of shape `(2, 2, 2)` and compute the sum of elements across the last axis.\n",
        "\n",
        "```python\n",
        "import tensorflow as tf\n",
        "\n",
        "tensor = tf.random.uniform((2, 2, 2))\n",
        "sum_result = tf.reduce_sum(tensor, axis=-1)\n",
        "print(sum_result)\n",
        "```"
      ],
      "metadata": {
        "id": "C-vfb3dnJGYm"
      }
    },
    {
      "cell_type": "code",
      "source": [
        "tensor = tf.random.uniform((2,2,2))\n",
        "print(tensor)\n",
        "print(\"\\n\")\n",
        "sum_result = tf.reduce_sum(tensor, axis=-1)\n",
        "print(sum_result)"
      ],
      "metadata": {
        "colab": {
          "base_uri": "https://localhost:8080/"
        },
        "id": "EWQLmrAyJKqP",
        "outputId": "6d3ebdef-cca9-4d05-e12b-18a036c2ec2a"
      },
      "execution_count": null,
      "outputs": [
        {
          "output_type": "stream",
          "name": "stdout",
          "text": [
            "tf.Tensor(\n",
            "[[[0.7357453  0.5311099 ]\n",
            "  [0.5906867  0.5969068 ]]\n",
            "\n",
            " [[0.5098833  0.09803319]\n",
            "  [0.5097177  0.47283077]]], shape=(2, 2, 2), dtype=float32)\n",
            "\n",
            "\n",
            "tf.Tensor(\n",
            "[[1.2668552 1.1875935]\n",
            " [0.6079165 0.9825485]], shape=(2, 2), dtype=float32)\n"
          ]
        }
      ]
    },
    {
      "cell_type": "markdown",
      "source": [
        "### **Exercise 1.10**: Create a tensor with shape `(4, 4)` and use slicing to extract a sub-tensor of shape `(2, 2)` from the top-left corner.\n",
        "\n",
        "```python\n",
        "import tensorflow as tf\n",
        "\n",
        "tensor = tf.random.uniform((4, 4))\n",
        "sub_tensor = tensor[:2, :2]\n",
        "print(sub_tensor)\n",
        "```"
      ],
      "metadata": {
        "id": "BUCZ378HLmiP"
      }
    },
    {
      "cell_type": "code",
      "source": [
        "tensor = tf.random.uniform((4, 4))\n",
        "print(tensor)\n",
        "print(\"\\n\")\n",
        "sub_tensor = tensor[:2, :2]\n",
        "print(sub_tensor)"
      ],
      "metadata": {
        "colab": {
          "base_uri": "https://localhost:8080/"
        },
        "id": "ZTXlf--cLp35",
        "outputId": "21bd2c84-b476-477b-d9b3-e1e068181324"
      },
      "execution_count": null,
      "outputs": [
        {
          "output_type": "stream",
          "name": "stdout",
          "text": [
            "tf.Tensor(\n",
            "[[0.9508574  0.03097332 0.80580556 0.14855552]\n",
            " [0.49364114 0.02638853 0.42838562 0.7785337 ]\n",
            " [0.23110032 0.7297523  0.11707997 0.4380455 ]\n",
            " [0.06297266 0.15089965 0.6792463  0.3209175 ]], shape=(4, 4), dtype=float32)\n",
            "\n",
            "\n",
            "tf.Tensor(\n",
            "[[0.9508574  0.03097332]\n",
            " [0.49364114 0.02638853]], shape=(2, 2), dtype=float32)\n"
          ]
        }
      ]
    },
    {
      "cell_type": "code",
      "source": [
        "sliced_tensor = tensor[1:3,1:3]\n",
        "print(sliced_tensor)"
      ],
      "metadata": {
        "colab": {
          "base_uri": "https://localhost:8080/"
        },
        "id": "tpR8OXGgNRCG",
        "outputId": "e20058bc-51e8-457e-e3cb-462e07612f4e"
      },
      "execution_count": null,
      "outputs": [
        {
          "output_type": "stream",
          "name": "stdout",
          "text": [
            "tf.Tensor(\n",
            "[[0.02638853 0.42838562]\n",
            " [0.7297523  0.11707997]], shape=(2, 2), dtype=float32)\n"
          ]
        }
      ]
    },
    {
      "cell_type": "code",
      "source": [
        "sliced_tensor = tensor[:4,2:4]\n",
        "print(sliced_tensor)"
      ],
      "metadata": {
        "colab": {
          "base_uri": "https://localhost:8080/"
        },
        "id": "dZX3ooDUOaSX",
        "outputId": "e4f1ce42-3f89-4620-8c5b-79f84c2e2677"
      },
      "execution_count": null,
      "outputs": [
        {
          "output_type": "stream",
          "name": "stdout",
          "text": [
            "tf.Tensor(\n",
            "[[0.80580556 0.14855552]\n",
            " [0.42838562 0.7785337 ]\n",
            " [0.11707997 0.4380455 ]\n",
            " [0.6792463  0.3209175 ]], shape=(4, 2), dtype=float32)\n"
          ]
        }
      ]
    },
    {
      "cell_type": "code",
      "source": [
        "indices = tf.range(4)  # [0, 1, 2, 3]\n",
        "new_tensor = tf.gather_nd(tensor, tf.stack((indices, indices), axis=1))\n",
        "print(new_tensor)\n",
        "print(\"\\n\")\n",
        "# Reshaping to 1x4 tensor\n",
        "new_tensor = tf.reshape(new_tensor, (1, 4))\n",
        "print(new_tensor)"
      ],
      "metadata": {
        "colab": {
          "base_uri": "https://localhost:8080/"
        },
        "id": "Bg5jqXpoQEPh",
        "outputId": "a4cd2563-0815-4752-d570-1c0d9070d95b"
      },
      "execution_count": null,
      "outputs": [
        {
          "output_type": "stream",
          "name": "stdout",
          "text": [
            "tf.Tensor([0.9508574  0.02638853 0.11707997 0.3209175 ], shape=(4,), dtype=float32)\n",
            "\n",
            "\n",
            "tf.Tensor([[0.9508574  0.02638853 0.11707997 0.3209175 ]], shape=(1, 4), dtype=float32)\n"
          ]
        }
      ]
    },
    {
      "cell_type": "markdown",
      "source": [
        "### **Exercise 1.11**: Create a tensor of shape `(2, 3)` and use `tf.concat` to concatenate it with another tensor of shape `(2, 2)` along the second axis. Ensure the resulting tensor's shape is correct.\n",
        "\n",
        "```python\n",
        "import tensorflow as tf\n",
        "\n",
        "tensor1 = tf.random.uniform((2, 3))\n",
        "tensor2 = tf.random.uniform((2, 2))\n",
        "concat_result = tf.concat([tensor1, tensor2], axis=1)\n",
        "print(concat_result)\n",
        "```\n"
      ],
      "metadata": {
        "id": "cJPvneZWR9bq"
      }
    },
    {
      "cell_type": "code",
      "source": [
        "tensor1 = tf.random.uniform((2, 3))\n",
        "print(tensor1)\n",
        "print(\"\\n\")\n",
        "tensor2 = tf.random.uniform((2, 2))\n",
        "print(tensor2)\n",
        "print(\"\\n\")\n",
        "concat_result = tf.concat([tensor1, tensor2], axis=1)\n",
        "print(concat_result)"
      ],
      "metadata": {
        "colab": {
          "base_uri": "https://localhost:8080/"
        },
        "id": "3XTR73KYSMAt",
        "outputId": "639d9b09-6feb-4300-f6fa-4a4a145fc041"
      },
      "execution_count": null,
      "outputs": [
        {
          "output_type": "stream",
          "name": "stdout",
          "text": [
            "tf.Tensor(\n",
            "[[0.13274968 0.00210023 0.34535766]\n",
            " [0.887748   0.14301729 0.56532407]], shape=(2, 3), dtype=float32)\n",
            "\n",
            "\n",
            "tf.Tensor(\n",
            "[[0.42470264 0.44720006]\n",
            " [0.59241545 0.3188485 ]], shape=(2, 2), dtype=float32)\n",
            "\n",
            "\n",
            "tf.Tensor(\n",
            "[[0.13274968 0.00210023 0.34535766 0.42470264 0.44720006]\n",
            " [0.887748   0.14301729 0.56532407 0.59241545 0.3188485 ]], shape=(2, 5), dtype=float32)\n"
          ]
        }
      ]
    },
    {
      "cell_type": "markdown",
      "source": [
        "### **Exercise 1.12**: Create a tensor of shape `(5, 5)` and perform a matrix multiplication with itself. Verify the shape of the resulting tensor.\n",
        "\n",
        "```python\n",
        "import tensorflow as tf\n",
        "\n",
        "tensor = tf.random.uniform((5, 5))\n",
        "matrix_mul_result = tf.matmul(tensor, tensor)\n",
        "print(matrix_mul_result)\n",
        "```"
      ],
      "metadata": {
        "id": "uD8uqAoTS3DU"
      }
    },
    {
      "cell_type": "code",
      "source": [
        "shape = (5, 5)\n",
        "tensor = tf.fill(shape, 5)\n",
        "print(tensor)\n",
        "print(\"\\n\")\n",
        "result = tf.matmul(tensor, tensor)\n",
        "print(result)\n"
      ],
      "metadata": {
        "colab": {
          "base_uri": "https://localhost:8080/"
        },
        "id": "P38q4QbPS581",
        "outputId": "5acd7adb-5310-4ebe-d5d1-f851aa6f6c73"
      },
      "execution_count": null,
      "outputs": [
        {
          "output_type": "stream",
          "name": "stdout",
          "text": [
            "tf.Tensor(\n",
            "[[5 5 5 5 5]\n",
            " [5 5 5 5 5]\n",
            " [5 5 5 5 5]\n",
            " [5 5 5 5 5]\n",
            " [5 5 5 5 5]], shape=(5, 5), dtype=int32)\n",
            "\n",
            "\n",
            "tf.Tensor(\n",
            "[[125 125 125 125 125]\n",
            " [125 125 125 125 125]\n",
            " [125 125 125 125 125]\n",
            " [125 125 125 125 125]\n",
            " [125 125 125 125 125]], shape=(5, 5), dtype=int32)\n"
          ]
        }
      ]
    },
    {
      "cell_type": "markdown",
      "source": [
        "### **Exercise 1.13**: Create a tensor of shape `(4, 4)` and normalize its values to the range `[0, 1]` using min-max normalization.\n",
        "\n",
        "```python\n",
        "import tensorflow as tf\n",
        "\n",
        "tensor = tf.random.uniform((4, 4))\n",
        "min_val = tf.reduce_min(tensor)\n",
        "max_val = tf.reduce_max(tensor)\n",
        "normalized_tensor = (tensor - min_val) / (max_val - min_val)\n",
        "print(normalized_tensor)\n",
        "```"
      ],
      "metadata": {
        "id": "qzfkLp0LXH9f"
      }
    },
    {
      "cell_type": "code",
      "source": [
        "tensor = tf.random.uniform((4, 4), dtype=tf.float32)\n",
        "print(tensor)\n",
        "print(\"\\n\")\n",
        "min_val = tf.reduce_min(tensor)\n",
        "max_val = tf.reduce_max(tensor)\n",
        "normalized_tensor = (tensor - min_val) / (max_val - min_val)\n",
        "print(normalized_tensor)"
      ],
      "metadata": {
        "colab": {
          "base_uri": "https://localhost:8080/"
        },
        "id": "HB4j7PhxXMGW",
        "outputId": "cc87fc90-110c-4bc8-ecff-4438fa26e274"
      },
      "execution_count": null,
      "outputs": [
        {
          "output_type": "stream",
          "name": "stdout",
          "text": [
            "tf.Tensor(\n",
            "[[0.46605754 0.27148867 0.7850828  0.78346574]\n",
            " [0.11966121 0.01524734 0.85850537 0.03094792]\n",
            " [0.6826043  0.8229054  0.59567094 0.43822944]\n",
            " [0.10708797 0.5360192  0.7849337  0.6473768 ]], shape=(4, 4), dtype=float32)\n",
            "\n",
            "\n",
            "tf.Tensor(\n",
            "[[0.53460526 0.3038706  0.9129299  0.91101223]\n",
            " [0.12382197 0.         1.         0.01861895]\n",
            " [0.79140306 0.95778286 0.6883108  0.5016046 ]\n",
            " [0.10891166 0.6175712  0.91275305 0.74962753]], shape=(4, 4), dtype=float32)\n"
          ]
        }
      ]
    },
    {
      "cell_type": "markdown",
      "source": [
        "### **Exercise 1.14**: Create a TensorFlow tensor with a shape of `(4, 4)` and initialize it with random values between 0 and 1. Slice the tensor to get the bottom-right 2x2 sub-tensor.\n",
        "\n",
        " ```python\n",
        "import tensorflow as tf\n",
        "\n",
        "tensor = tf.random.uniform((4, 4), minval=0, maxval=1)\n",
        "sliced_tensor = tensor[2:4, 2:4]|\n",
        "print(sliced_tensor)\n",
        "```\n"
      ],
      "metadata": {
        "id": "-Y5J0kzDiklE"
      }
    },
    {
      "cell_type": "code",
      "source": [
        "tensor = tf.random.uniform((4,4),minval = 0, maxval = 1, dtype=tf.float32)\n",
        "print(tensor)\n",
        "print(\"\\n\")\n",
        "sliced_tensor = tensor[2:4, 2:4]\n",
        "print(sliced_tensor)"
      ],
      "metadata": {
        "colab": {
          "base_uri": "https://localhost:8080/"
        },
        "id": "oNFPVk0HinES",
        "outputId": "71bdebac-4537-4015-9f8a-63c2bb56afea"
      },
      "execution_count": null,
      "outputs": [
        {
          "output_type": "stream",
          "name": "stdout",
          "text": [
            "tf.Tensor(\n",
            "[[0.6969708  0.96683884 0.04934478 0.8124448 ]\n",
            " [0.36237144 0.25768936 0.7188425  0.77328897]\n",
            " [0.6435652  0.2083683  0.623091   0.7126919 ]\n",
            " [0.8834237  0.7987697  0.10878086 0.412269  ]], shape=(4, 4), dtype=float32)\n",
            "\n",
            "\n",
            "tf.Tensor(\n",
            "[[0.623091   0.7126919 ]\n",
            " [0.10878086 0.412269  ]], shape=(2, 2), dtype=float32)\n"
          ]
        }
      ]
    },
    {
      "cell_type": "markdown",
      "source": [
        "### **Exercise 1.15**: Create a 1-D tensor with 10 elements using `tf.range`. Reshape this tensor into a 2x5 tensor.\n",
        "\n",
        "```python\n",
        "tensor = tf.range(10)\n",
        "reshaped_tensor = tf.reshape(tensor, (2, 5))\n",
        "print(reshaped_tensor)\n",
        "```"
      ],
      "metadata": {
        "id": "HUP5xUU7kBgR"
      }
    },
    {
      "cell_type": "code",
      "source": [
        "tensor = tf.range(10)\n",
        "print(tensor)\n",
        "print(\"\\n\")\n",
        "reshaped_tensor = tf.reshape(tensor, (2, 5))\n",
        "print(reshaped_tensor)"
      ],
      "metadata": {
        "colab": {
          "base_uri": "https://localhost:8080/"
        },
        "id": "dIndj4VskG_Q",
        "outputId": "e2521b12-dcb2-4aef-cc84-0a3fb7545065"
      },
      "execution_count": null,
      "outputs": [
        {
          "output_type": "stream",
          "name": "stdout",
          "text": [
            "tf.Tensor([0 1 2 3 4 5 6 7 8 9], shape=(10,), dtype=int32)\n",
            "\n",
            "\n",
            "tf.Tensor(\n",
            "[[0 1 2 3 4]\n",
            " [5 6 7 8 9]], shape=(2, 5), dtype=int32)\n"
          ]
        }
      ]
    },
    {
      "cell_type": "code",
      "source": [
        "tensor = tf.range(45)\n",
        "print(tensor)\n",
        "print(\"\\n\")\n",
        "reshaped_tensor = tf.reshape(tensor,(3,3,5))\n",
        "print(reshaped_tensor)"
      ],
      "metadata": {
        "colab": {
          "base_uri": "https://localhost:8080/"
        },
        "id": "hVvKYheKp5oE",
        "outputId": "8f3b3afe-57b8-4422-e4c8-fe11711d303f"
      },
      "execution_count": null,
      "outputs": [
        {
          "output_type": "stream",
          "name": "stdout",
          "text": [
            "tf.Tensor(\n",
            "[ 0  1  2  3  4  5  6  7  8  9 10 11 12 13 14 15 16 17 18 19 20 21 22 23\n",
            " 24 25 26 27 28 29 30 31 32 33 34 35 36 37 38 39 40 41 42 43 44], shape=(45,), dtype=int32)\n",
            "\n",
            "\n",
            "tf.Tensor(\n",
            "[[[ 0  1  2  3  4]\n",
            "  [ 5  6  7  8  9]\n",
            "  [10 11 12 13 14]]\n",
            "\n",
            " [[15 16 17 18 19]\n",
            "  [20 21 22 23 24]\n",
            "  [25 26 27 28 29]]\n",
            "\n",
            " [[30 31 32 33 34]\n",
            "  [35 36 37 38 39]\n",
            "  [40 41 42 43 44]]], shape=(3, 3, 5), dtype=int32)\n"
          ]
        }
      ]
    },
    {
      "cell_type": "code",
      "source": [
        "tensor = tf.range(120)\n",
        "reshaped_tensor = tf.reshape(tensor,(2,3,4,5))\n",
        "print(reshaped_tensor)"
      ],
      "metadata": {
        "colab": {
          "base_uri": "https://localhost:8080/"
        },
        "id": "o4hTTq0SqwO9",
        "outputId": "c5beaffd-b2b7-4bcd-cdaf-a27b181766ab"
      },
      "execution_count": null,
      "outputs": [
        {
          "output_type": "stream",
          "name": "stdout",
          "text": [
            "tf.Tensor(\n",
            "[[[[  0   1   2   3   4]\n",
            "   [  5   6   7   8   9]\n",
            "   [ 10  11  12  13  14]\n",
            "   [ 15  16  17  18  19]]\n",
            "\n",
            "  [[ 20  21  22  23  24]\n",
            "   [ 25  26  27  28  29]\n",
            "   [ 30  31  32  33  34]\n",
            "   [ 35  36  37  38  39]]\n",
            "\n",
            "  [[ 40  41  42  43  44]\n",
            "   [ 45  46  47  48  49]\n",
            "   [ 50  51  52  53  54]\n",
            "   [ 55  56  57  58  59]]]\n",
            "\n",
            "\n",
            " [[[ 60  61  62  63  64]\n",
            "   [ 65  66  67  68  69]\n",
            "   [ 70  71  72  73  74]\n",
            "   [ 75  76  77  78  79]]\n",
            "\n",
            "  [[ 80  81  82  83  84]\n",
            "   [ 85  86  87  88  89]\n",
            "   [ 90  91  92  93  94]\n",
            "   [ 95  96  97  98  99]]\n",
            "\n",
            "  [[100 101 102 103 104]\n",
            "   [105 106 107 108 109]\n",
            "   [110 111 112 113 114]\n",
            "   [115 116 117 118 119]]]], shape=(2, 3, 4, 5), dtype=int32)\n"
          ]
        }
      ]
    },
    {
      "cell_type": "markdown",
      "source": [
        "### **Exercise 1.16**: Create a tensor of shape `(5, 5)` filled with ones. Change the center element to 0.\n",
        "\n",
        "```python\n",
        "tensor = tf.ones((5, 5))\n",
        "tensor = tf.tensor_scatter_nd_update(tensor, indices=[[2, 2]], updates=[0])\n",
        "print(tensor)\n",
        "```\n"
      ],
      "metadata": {
        "id": "AajNYBptruAP"
      }
    },
    {
      "cell_type": "code",
      "source": [
        "tensor = tf.ones((5, 5))\n",
        "tensor = tf.tensor_scatter_nd_update(tensor, indices=[[2, 2]], updates=[0])\n",
        "print(tensor)"
      ],
      "metadata": {
        "colab": {
          "base_uri": "https://localhost:8080/"
        },
        "id": "IiN_7e6XrxZS",
        "outputId": "c698b3e3-4230-43ff-b128-f4e62336dacb"
      },
      "execution_count": null,
      "outputs": [
        {
          "output_type": "stream",
          "name": "stdout",
          "text": [
            "tf.Tensor(\n",
            "[[1. 1. 1. 1. 1.]\n",
            " [1. 1. 1. 1. 1.]\n",
            " [1. 1. 0. 1. 1.]\n",
            " [1. 1. 1. 1. 1.]\n",
            " [1. 1. 1. 1. 1.]], shape=(5, 5), dtype=float32)\n"
          ]
        }
      ]
    },
    {
      "cell_type": "markdown",
      "source": [
        "### **NOTE:** This alternative method could be used as well."
      ],
      "metadata": {
        "id": "Gp4mNQQ6tNHN"
      }
    },
    {
      "cell_type": "code",
      "source": [
        "tensor = tf.constant([[1, 2], [3, 4], [5, 6]], dtype=tf.int32)\n",
        "\n",
        "# Indices to update\n",
        "indices = tf.constant([[0, 0], [1, 1]], dtype=tf.int32)\n",
        "\n",
        "# New values to update the tensor with\n",
        "updates = tf.constant([10, 20], dtype=tf.int32)\n",
        "\n",
        "# Applying the updates\n",
        "updated_tensor = tf.tensor_scatter_nd_update(tensor, indices, updates)\n",
        "\n",
        "# Running the session to evaluate the tensor\n",
        "print(updated_tensor)\n"
      ],
      "metadata": {
        "colab": {
          "base_uri": "https://localhost:8080/"
        },
        "id": "iTbL6afPsYCW",
        "outputId": "782091af-34c3-4be1-fd23-b23ace4e9018"
      },
      "execution_count": null,
      "outputs": [
        {
          "output_type": "stream",
          "name": "stdout",
          "text": [
            "tf.Tensor(\n",
            "[[10  2]\n",
            " [ 3 20]\n",
            " [ 5  6]], shape=(3, 2), dtype=int32)\n"
          ]
        }
      ]
    },
    {
      "cell_type": "markdown",
      "source": [
        "### **Exercise 1.17**: Create two 1-D tensors of length 5 with random values. Concatenate them to create a 1-D tensor of length 10.\n",
        "\n",
        " ```python\n",
        "tensor1 = tf.random.uniform((5,))\n",
        "tensor2 = tf.random.uniform((5,))\n",
        "concatenated_tensor = tf.concat([tensor1, tensor2], axis=0)\n",
        "print(concatenated_tensor)\n",
        "```\n"
      ],
      "metadata": {
        "id": "NkphBwEntklW"
      }
    },
    {
      "cell_type": "code",
      "source": [
        "tensor1 = tf.random.uniform((5,))\n",
        "print(tensor1)\n",
        "print(\"\\n\")\n",
        "tensor2 = tf.random.uniform((5,))\n",
        "print(tensor2)\n",
        "print(\"\\n\")\n",
        "concatenated_tensor = tf.concat([tensor1, tensor2], axis=0)\n",
        "print(concatenated_tensor)"
      ],
      "metadata": {
        "colab": {
          "base_uri": "https://localhost:8080/"
        },
        "id": "yPDQnap-tCEE",
        "outputId": "dea84bd3-aa07-48c7-eb50-f5e25cda1b17"
      },
      "execution_count": null,
      "outputs": [
        {
          "output_type": "stream",
          "name": "stdout",
          "text": [
            "tf.Tensor([0.36025608 0.20073497 0.6705266  0.8908056  0.44811118], shape=(5,), dtype=float32)\n",
            "\n",
            "\n",
            "tf.Tensor([0.6351814  0.9134885  0.07533169 0.11312723 0.76014936], shape=(5,), dtype=float32)\n",
            "\n",
            "\n",
            "tf.Tensor(\n",
            "[0.36025608 0.20073497 0.6705266  0.8908056  0.44811118 0.6351814\n",
            " 0.9134885  0.07533169 0.11312723 0.76014936], shape=(10,), dtype=float32)\n"
          ]
        }
      ]
    },
    {
      "cell_type": "markdown",
      "source": [
        "### **Exercise 1.18**: Create a 3x3 identity matrix using TensorFlow.\n",
        "\n",
        "```python\n",
        "identity_matrix = tf.eye(3)\n",
        "print(identity_matrix)\n",
        "```"
      ],
      "metadata": {
        "id": "GgMbIlAYwYs7"
      }
    },
    {
      "cell_type": "code",
      "source": [
        "identity_matrix = tf.eye(3)\n",
        "print(identity_matrix)"
      ],
      "metadata": {
        "colab": {
          "base_uri": "https://localhost:8080/"
        },
        "id": "Fdf78LFbv72e",
        "outputId": "3f2d974f-9232-4632-b168-5dbb2be394f6"
      },
      "execution_count": null,
      "outputs": [
        {
          "output_type": "stream",
          "name": "stdout",
          "text": [
            "tf.Tensor(\n",
            "[[1. 0. 0.]\n",
            " [0. 1. 0.]\n",
            " [0. 0. 1.]], shape=(3, 3), dtype=float32)\n"
          ]
        }
      ]
    },
    {
      "cell_type": "markdown",
      "source": [
        "### **Exercise 1.19**: Create a tensor of shape `(2, 3)` with random values. Calculate the mean and standard deviation of the tensor.\n",
        "\n",
        "```python\n",
        "tensor = tf.random.uniform((2, 3))\n",
        "mean = tf.reduce_mean(tensor)\n",
        "stddev = tf.math.reduce_std(tensor)\n",
        "print(\"Mean:\", mean.numpy())\n",
        "print(\"Standard Deviation:\", stddev.numpy())\n",
        "```"
      ],
      "metadata": {
        "id": "ODQ9kR7xwn5U"
      }
    },
    {
      "cell_type": "code",
      "source": [
        "tensor = tf.random.uniform((2,3), dtype=tf.float32)\n",
        "mean = tf.reduce_mean(tensor)\n",
        "stddev = tf.math.reduce_std(tensor)\n",
        "print(\"Mean:\", mean.numpy())\n",
        "print(\"Standard Deviation:\", stddev.numpy())"
      ],
      "metadata": {
        "colab": {
          "base_uri": "https://localhost:8080/"
        },
        "id": "0ViQq9GGwrE_",
        "outputId": "3145d31a-6c2d-4fbe-bf80-fb1cacd8f509"
      },
      "execution_count": null,
      "outputs": [
        {
          "output_type": "stream",
          "name": "stdout",
          "text": [
            "Mean: 0.59670806\n",
            "Standard Deviation: 0.3812475\n"
          ]
        }
      ]
    },
    {
      "cell_type": "markdown",
      "source": [
        "### **NOTE:** Alternatively, use the following:"
      ],
      "metadata": {
        "id": "sworLzvHxckQ"
      }
    },
    {
      "cell_type": "code",
      "source": [
        "print(mean)\n",
        "print(stddev)"
      ],
      "metadata": {
        "colab": {
          "base_uri": "https://localhost:8080/"
        },
        "id": "bj_HFLMNwz1j",
        "outputId": "9433d48a-73e0-4ec8-b3d5-d099c666329f"
      },
      "execution_count": null,
      "outputs": [
        {
          "output_type": "stream",
          "name": "stdout",
          "text": [
            "tf.Tensor(0.59670806, shape=(), dtype=float32)\n",
            "tf.Tensor(0.3812475, shape=(), dtype=float32)\n"
          ]
        }
      ]
    },
    {
      "cell_type": "markdown",
      "source": [
        "### **Exercise 1.20**: Create a tensor of shape `(3, 3)` with random values. Normalize the tensor (subtract the mean and divide by the standard deviation).\n",
        "\n",
        " ```python\n",
        "tensor = tf.random.uniform((3, 3))\n",
        "mean, stddev = tf.reduce_mean(tensor), tf.math.reduce_std(tensor)\n",
        "normalized_tensor = (tensor - mean) / stddev\n",
        "print(normalized_tensor)\n",
        "```"
      ],
      "metadata": {
        "id": "UabWfeW6xzRU"
      }
    },
    {
      "cell_type": "code",
      "source": [
        "tensor = tf.random.uniform((3,3), dtype=tf.float32)\n",
        "print(tensor)\n",
        "print(\"\\n\")\n",
        "mean, stddev = tf.reduce_mean(tensor), tf.math.reduce_std(tensor)\n",
        "print(\"The tensor mean is \", mean.numpy())\n",
        "print(\"The tensor stddev is \", stddev.numpy())\n",
        "print(\"\\n\")\n",
        "normalized_tensor = (tensor - mean) / stddev\n",
        "print(normalized_tensor)\n"
      ],
      "metadata": {
        "colab": {
          "base_uri": "https://localhost:8080/"
        },
        "id": "tvwQ4sjGxYRj",
        "outputId": "4cc3635c-5dee-4f12-8de3-d98dc036efa6"
      },
      "execution_count": null,
      "outputs": [
        {
          "output_type": "stream",
          "name": "stdout",
          "text": [
            "tf.Tensor(\n",
            "[[0.5057392  0.187603   0.14445567]\n",
            " [0.18466818 0.13067377 0.10724366]\n",
            " [0.4967867  0.45638263 0.5123081 ]], shape=(3, 3), dtype=float32)\n",
            "\n",
            "\n",
            "The tensor mean is  0.30287346\n",
            "The tensor stddev is  0.17206734\n",
            "\n",
            "\n",
            "tf.Tensor(\n",
            "[[ 1.1789904  -0.66991484 -0.9206732 ]\n",
            " [-0.686971   -1.0007691  -1.1369374 ]\n",
            " [ 1.1269614   0.8921459   1.2171668 ]], shape=(3, 3), dtype=float32)\n"
          ]
        }
      ]
    },
    {
      "cell_type": "markdown",
      "source": [
        "### **Exercise 1.21**: Create a tensor of shape `(4, 4)` with random values between -1 and 1. Apply the ReLU activation function to this tensor.\n",
        "\n",
        "```python\n",
        "tensor = tf.random.uniform((4, 4), minval=-1, maxval=1)\n",
        "relu_tensor = tf.nn.relu(tensor)\n",
        "print(relu_tensor)\n",
        "```"
      ],
      "metadata": {
        "id": "YnHDhiOOtDFk"
      }
    },
    {
      "cell_type": "code",
      "source": [
        "tensor = tf.random.uniform((4,4), minval=-1, maxval=1, dtype=tf.float32)\n",
        "print(tensor)\n",
        "print(\"\\n\")\n",
        "relu_tensor = tf.nn.relu(tensor)\n",
        "print(relu_tensor)\n"
      ],
      "metadata": {
        "colab": {
          "base_uri": "https://localhost:8080/"
        },
        "id": "4sdCY_2stHZR",
        "outputId": "bc6c51e1-3a48-4afd-bc4b-36ff664d8360"
      },
      "execution_count": null,
      "outputs": [
        {
          "output_type": "stream",
          "name": "stdout",
          "text": [
            "tf.Tensor(\n",
            "[[-0.77788234  0.5593064   0.27836728  0.10592794]\n",
            " [ 0.3540883  -0.8159628   0.04304075  0.33895922]\n",
            " [ 0.678473    0.43741846  0.8848586   0.15097809]\n",
            " [ 0.86957574 -0.07371736 -0.7554405   0.635103  ]], shape=(4, 4), dtype=float32)\n",
            "\n",
            "\n",
            "tf.Tensor(\n",
            "[[0.         0.5593064  0.27836728 0.10592794]\n",
            " [0.3540883  0.         0.04304075 0.33895922]\n",
            " [0.678473   0.43741846 0.8848586  0.15097809]\n",
            " [0.86957574 0.         0.         0.635103  ]], shape=(4, 4), dtype=float32)\n"
          ]
        }
      ]
    },
    {
      "cell_type": "markdown",
      "source": [
        "### **Exercise 1.22**: Create a tensor of shape `(5, 5)` with normally distributed random values. Calculate the sum of all elements in the tensor.\n",
        "\n",
        "```python\n",
        "tensor = tf.random.normal((5, 5))\n",
        "sum_tensor = tf.reduce_sum(tensor)\n",
        "print(sum_tensor)\n",
        "```"
      ],
      "metadata": {
        "id": "KV-1EcFOtN1M"
      }
    },
    {
      "cell_type": "code",
      "source": [
        "tensor = tf.random.normal((5, 5))\n",
        "print(tensor)\n",
        "print(\"\\n\")\n",
        "sum_tensor = tf.reduce_sum(tensor)\n",
        "print(sum_tensor)"
      ],
      "metadata": {
        "colab": {
          "base_uri": "https://localhost:8080/"
        },
        "id": "Ah_-PC8ntv3d",
        "outputId": "d989a8d9-9810-4319-9778-0975a1890eed"
      },
      "execution_count": null,
      "outputs": [
        {
          "output_type": "stream",
          "name": "stdout",
          "text": [
            "tf.Tensor(\n",
            "[[ 0.19211797  1.7210767  -0.67960954 -1.2656827   0.0875546 ]\n",
            " [ 1.2149788   1.33337    -0.7580605  -1.6372123  -0.0237071 ]\n",
            " [ 1.2195574  -2.3841295   1.9459269   0.7698695  -0.35315275]\n",
            " [-0.21510373 -0.56672233 -0.20822129  0.16150315  0.14477125]\n",
            " [-0.06870583 -0.7996049   0.9615412  -0.79790604 -0.56094205]], shape=(5, 5), dtype=float32)\n",
            "\n",
            "\n",
            "tf.Tensor(-0.5664929, shape=(), dtype=float32)\n"
          ]
        }
      ]
    },
    {
      "cell_type": "markdown",
      "source": [
        "### **Exercise 1.23**: Create two tensors of shape `(2, 2)` with random values. Perform element-wise multiplication and matrix multiplication on these tensors.\n",
        "\n",
        "```python\n",
        "tensor1 = tf.random.uniform((2, 2))\n",
        "tensor2 = tf.random.uniform((2, 2))\n",
        "elementwise_mul = tf.multiply(tensor1, tensor2)\n",
        "matrix_mul = tf.matmul(tensor1, tensor2)\n",
        "print(\"Element-wise multiplication:\\n\", elementwise_mul)\n",
        "print(\"Matrix multiplication:\\n\", matrix_mul)\n",
        "```"
      ],
      "metadata": {
        "id": "ExypylvJuPBt"
      }
    },
    {
      "cell_type": "code",
      "source": [
        "tensor1 = tf.random.uniform((2, 2))\n",
        "tensor2 = tf.random.uniform((2, 2))\n",
        "print(tensor1)\n",
        "print(\"\\n\")\n",
        "print(tensor2)\n",
        "print(\"\\n\")\n",
        "elementwise_mul = tf.multiply(tensor1, tensor2)\n",
        "matrix_mul = tf.matmul(tensor1, tensor2)\n",
        "print(\"Element-wise multiplication:\\n\", elementwise_mul)\n",
        "print(\"\\n\")\n",
        "print(\"Matrix multiplication:\\n\", matrix_mul)"
      ],
      "metadata": {
        "colab": {
          "base_uri": "https://localhost:8080/"
        },
        "id": "UJKRGegluV6B",
        "outputId": "0078025d-a83c-4086-84e1-dfd2d0155b1d"
      },
      "execution_count": null,
      "outputs": [
        {
          "output_type": "stream",
          "name": "stdout",
          "text": [
            "tf.Tensor(\n",
            "[[0.13160324 0.6430135 ]\n",
            " [0.5921091  0.552331  ]], shape=(2, 2), dtype=float32)\n",
            "\n",
            "\n",
            "tf.Tensor(\n",
            "[[0.72429276 0.98018277]\n",
            " [0.33417714 0.74873745]], shape=(2, 2), dtype=float32)\n",
            "\n",
            "\n",
            "Element-wise multiplication:\n",
            " tf.Tensor(\n",
            "[[0.09531927 0.6302707 ]\n",
            " [0.19786932 0.41355088]], shape=(2, 2), dtype=float32)\n",
            "\n",
            "\n",
            "Matrix multiplication:\n",
            " tf.Tensor(\n",
            "[[0.31019968 0.6104435 ]\n",
            " [0.6134367  0.99392605]], shape=(2, 2), dtype=float32)\n"
          ]
        }
      ]
    },
    {
      "cell_type": "markdown",
      "source": [
        "### **Exercise 1.24**: Create a tensor of shape `(3, 4)` with random values. Transpose this tensor.\n",
        "\n",
        "```python\n",
        "tensor = tf.random.uniform((3, 4))\n",
        "transposed_tensor = tf.transpose(tensor)\n",
        "print(transposed_tensor)\n",
        "```"
      ],
      "metadata": {
        "id": "5cOd4dWLzeD9"
      }
    },
    {
      "cell_type": "code",
      "source": [
        "tensor = tf.random.uniform((3, 4))\n",
        "print(tensor)\n",
        "print(\"\\n\")\n",
        "transposed_tensor = tf.transpose(tensor)\n",
        "print(transposed_tensor)"
      ],
      "metadata": {
        "colab": {
          "base_uri": "https://localhost:8080/"
        },
        "id": "_mccjYdoylMa",
        "outputId": "fde4c1fd-e835-4d46-fb3a-5cd291be1f12"
      },
      "execution_count": null,
      "outputs": [
        {
          "output_type": "stream",
          "name": "stdout",
          "text": [
            "tf.Tensor(\n",
            "[[0.06667948 0.5197476  0.07745123 0.6319295 ]\n",
            " [0.08938646 0.71627486 0.9679235  0.12232053]\n",
            " [0.4180194  0.64101136 0.57963717 0.35457957]], shape=(3, 4), dtype=float32)\n",
            "\n",
            "\n",
            "tf.Tensor(\n",
            "[[0.06667948 0.08938646 0.4180194 ]\n",
            " [0.5197476  0.71627486 0.64101136]\n",
            " [0.07745123 0.9679235  0.57963717]\n",
            " [0.6319295  0.12232053 0.35457957]], shape=(4, 3), dtype=float32)\n"
          ]
        }
      ]
    },
    {
      "cell_type": "markdown",
      "source": [
        "### **Exercise 1.25**: Create a tensor of shape `(2, 3, 4)` with random values. Reshape this tensor into a 2-D tensor of shape `(6, 4)`.\n",
        "\n",
        "```python\n",
        "tensor = tf.random.uniform((2, 3, 4))\n",
        "reshaped_tensor = tf.reshape(tensor, (6, 4))\n",
        "print(reshaped_tensor)\n",
        "```\n"
      ],
      "metadata": {
        "id": "hYKs7xi40IbQ"
      }
    },
    {
      "cell_type": "code",
      "source": [
        "tensor = tf.random.uniform((2, 3, 4))\n",
        "print(tensor)\n",
        "print(\"\\n\")\n",
        "reshaped_tensor = tf.reshape(tensor, (6, 4))\n",
        "print(reshaped_tensor)"
      ],
      "metadata": {
        "colab": {
          "base_uri": "https://localhost:8080/"
        },
        "id": "InlbXAzR0SQo",
        "outputId": "c76d6a38-bf6d-4e49-c242-2316d42e8dfb"
      },
      "execution_count": null,
      "outputs": [
        {
          "output_type": "stream",
          "name": "stdout",
          "text": [
            "tf.Tensor(\n",
            "[[[0.7658713  0.58283174 0.07502723 0.46517015]\n",
            "  [0.6806258  0.51526904 0.49553466 0.28917456]\n",
            "  [0.5618943  0.8792777  0.45804846 0.6958808 ]]\n",
            "\n",
            " [[0.65646803 0.8502265  0.48747313 0.68744373]\n",
            "  [0.12465739 0.84266555 0.535537   0.0020268 ]\n",
            "  [0.25344813 0.08947051 0.17269301 0.9221531 ]]], shape=(2, 3, 4), dtype=float32)\n",
            "\n",
            "\n",
            "tf.Tensor(\n",
            "[[0.7658713  0.58283174 0.07502723 0.46517015]\n",
            " [0.6806258  0.51526904 0.49553466 0.28917456]\n",
            " [0.5618943  0.8792777  0.45804846 0.6958808 ]\n",
            " [0.65646803 0.8502265  0.48747313 0.68744373]\n",
            " [0.12465739 0.84266555 0.535537   0.0020268 ]\n",
            " [0.25344813 0.08947051 0.17269301 0.9221531 ]], shape=(6, 4), dtype=float32)\n"
          ]
        }
      ]
    },
    {
      "cell_type": "code",
      "source": [
        "tensor = tf.random.uniform((3, 4, 2))\n",
        "print(tensor)\n",
        "print(\"\\n\")\n",
        "reshaped_tensor = tf.reshape(tensor, (6, 4))\n",
        "print(reshaped_tensor)"
      ],
      "metadata": {
        "colab": {
          "base_uri": "https://localhost:8080/"
        },
        "id": "4mFSK41G3ZmT",
        "outputId": "b0f94cc7-aaef-4142-a212-910e88925c39"
      },
      "execution_count": null,
      "outputs": [
        {
          "output_type": "stream",
          "name": "stdout",
          "text": [
            "tf.Tensor(\n",
            "[[[0.94488597 0.5145209 ]\n",
            "  [0.7138705  0.27301633]\n",
            "  [0.9180417  0.67404115]\n",
            "  [0.52818286 0.5724189 ]]\n",
            "\n",
            " [[0.39344656 0.42576134]\n",
            "  [0.814363   0.58020055]\n",
            "  [0.33641386 0.3047248 ]\n",
            "  [0.67971075 0.03682518]]\n",
            "\n",
            " [[0.28652215 0.16238546]\n",
            "  [0.4463042  0.11843526]\n",
            "  [0.375818   0.04864728]\n",
            "  [0.85832083 0.15718138]]], shape=(3, 4, 2), dtype=float32)\n",
            "\n",
            "\n",
            "tf.Tensor(\n",
            "[[0.94488597 0.5145209  0.7138705  0.27301633]\n",
            " [0.9180417  0.67404115 0.52818286 0.5724189 ]\n",
            " [0.39344656 0.42576134 0.814363   0.58020055]\n",
            " [0.33641386 0.3047248  0.67971075 0.03682518]\n",
            " [0.28652215 0.16238546 0.4463042  0.11843526]\n",
            " [0.375818   0.04864728 0.85832083 0.15718138]], shape=(6, 4), dtype=float32)\n"
          ]
        }
      ]
    },
    {
      "cell_type": "code",
      "source": [
        "tensor = tf.random.uniform((3, 4, 3))\n",
        "print(tensor)\n",
        "print(\"\\n\")\n",
        "reshaped_tensor = tf.reshape(tensor, (9, 4))\n",
        "print(reshaped_tensor)"
      ],
      "metadata": {
        "colab": {
          "base_uri": "https://localhost:8080/"
        },
        "id": "FC_2f-o43dTT",
        "outputId": "beb4a135-4330-442f-bc0e-af5655c253b0"
      },
      "execution_count": null,
      "outputs": [
        {
          "output_type": "stream",
          "name": "stdout",
          "text": [
            "tf.Tensor(\n",
            "[[[0.9358349  0.70090413 0.658484  ]\n",
            "  [0.04049337 0.57098496 0.01053798]\n",
            "  [0.42961192 0.25810826 0.22988975]\n",
            "  [0.9329432  0.43180108 0.91119885]]\n",
            "\n",
            " [[0.59612453 0.11149096 0.60991776]\n",
            "  [0.4798348  0.50438464 0.23230016]\n",
            "  [0.8554419  0.54522395 0.9565302 ]\n",
            "  [0.75052536 0.2502402  0.1482917 ]]\n",
            "\n",
            " [[0.90709674 0.03364861 0.71141064]\n",
            "  [0.77366567 0.92848575 0.5938349 ]\n",
            "  [0.55807257 0.3462646  0.25349164]\n",
            "  [0.39053977 0.00560987 0.4848665 ]]], shape=(3, 4, 3), dtype=float32)\n",
            "\n",
            "\n",
            "tf.Tensor(\n",
            "[[0.9358349  0.70090413 0.658484   0.04049337]\n",
            " [0.57098496 0.01053798 0.42961192 0.25810826]\n",
            " [0.22988975 0.9329432  0.43180108 0.91119885]\n",
            " [0.59612453 0.11149096 0.60991776 0.4798348 ]\n",
            " [0.50438464 0.23230016 0.8554419  0.54522395]\n",
            " [0.9565302  0.75052536 0.2502402  0.1482917 ]\n",
            " [0.90709674 0.03364861 0.71141064 0.77366567]\n",
            " [0.92848575 0.5938349  0.55807257 0.3462646 ]\n",
            " [0.25349164 0.39053977 0.00560987 0.4848665 ]], shape=(9, 4), dtype=float32)\n"
          ]
        }
      ]
    },
    {
      "cell_type": "code",
      "source": [
        "tensor = tf.random.uniform((9, 4))\n",
        "print(tensor)\n",
        "print(\"\\n\")\n",
        "reshaped_tensor = tf.reshape(tensor, (3,4,3))\n",
        "print(reshaped_tensor)"
      ],
      "metadata": {
        "colab": {
          "base_uri": "https://localhost:8080/"
        },
        "id": "FfXfUJZT30eW",
        "outputId": "8cbe5c89-df86-4716-9812-c9f092153262"
      },
      "execution_count": null,
      "outputs": [
        {
          "output_type": "stream",
          "name": "stdout",
          "text": [
            "tf.Tensor(\n",
            "[[0.15457284 0.18791449 0.43169713 0.80818236]\n",
            " [0.6828054  0.8385073  0.5317954  0.03671932]\n",
            " [0.14129424 0.4076743  0.7442496  0.9805175 ]\n",
            " [0.8302387  0.2814039  0.1721232  0.42819917]\n",
            " [0.49002385 0.47037518 0.74634886 0.256796  ]\n",
            " [0.6543592  0.09454763 0.412403   0.44560742]\n",
            " [0.08534276 0.39247918 0.50008416 0.09329247]\n",
            " [0.750479   0.20401478 0.66917515 0.40154672]\n",
            " [0.63235784 0.14520216 0.32950735 0.24789393]], shape=(9, 4), dtype=float32)\n",
            "\n",
            "\n",
            "tf.Tensor(\n",
            "[[[0.15457284 0.18791449 0.43169713]\n",
            "  [0.80818236 0.6828054  0.8385073 ]\n",
            "  [0.5317954  0.03671932 0.14129424]\n",
            "  [0.4076743  0.7442496  0.9805175 ]]\n",
            "\n",
            " [[0.8302387  0.2814039  0.1721232 ]\n",
            "  [0.42819917 0.49002385 0.47037518]\n",
            "  [0.74634886 0.256796   0.6543592 ]\n",
            "  [0.09454763 0.412403   0.44560742]]\n",
            "\n",
            " [[0.08534276 0.39247918 0.50008416]\n",
            "  [0.09329247 0.750479   0.20401478]\n",
            "  [0.66917515 0.40154672 0.63235784]\n",
            "  [0.14520216 0.32950735 0.24789393]]], shape=(3, 4, 3), dtype=float32)\n"
          ]
        }
      ]
    },
    {
      "cell_type": "markdown",
      "source": [
        "### **Exercise 1.26**: Create a tensor of shape `(3, 3)` with random values. Extract the diagonal elements of this tensor.\n",
        "\n",
        "```python\n",
        "tensor = tf.random.uniform((3, 3))\n",
        "diagonal = tf.linalg.diag_part(tensor)\n",
        "print(diagonal)\n",
        "```"
      ],
      "metadata": {
        "id": "XTWTXzDD5PV4"
      }
    },
    {
      "cell_type": "code",
      "source": [
        "tensor = tf.random.uniform((3, 3))\n",
        "print(tensor)\n",
        "print(\"\\n\")\n",
        "diagonal = tf.linalg.diag_part(tensor)\n",
        "print(diagonal)"
      ],
      "metadata": {
        "colab": {
          "base_uri": "https://localhost:8080/"
        },
        "id": "C1Bvm21X5U9x",
        "outputId": "6e5d4988-0a10-426d-e08b-c30e17e91387"
      },
      "execution_count": null,
      "outputs": [
        {
          "output_type": "stream",
          "name": "stdout",
          "text": [
            "tf.Tensor(\n",
            "[[0.9826915  0.6717384  0.06726861]\n",
            " [0.01254535 0.22600806 0.80312145]\n",
            " [0.06481028 0.8579792  0.73611903]], shape=(3, 3), dtype=float32)\n",
            "\n",
            "\n",
            "tf.Tensor([0.9826915  0.22600806 0.73611903], shape=(3,), dtype=float32)\n"
          ]
        }
      ]
    },
    {
      "cell_type": "markdown",
      "source": [
        "### **Exercise 1.27**: Create a tensor of shape `(4, 4)` with values from 1 to 16. Reverse the order of elements in each row.\n",
        "\n",
        "```python\n",
        "tensor = tf.reshape(tf.range(1, 17), (4, 4))\n",
        "reversed_tensor = tf.reverse(tensor, axis=[1])\n",
        "print(reversed_tensor)\n",
        "```"
      ],
      "metadata": {
        "id": "lkYA2Fmq8b9i"
      }
    },
    {
      "cell_type": "code",
      "source": [
        "tensor = tf.reshape(tf.range(1, 17), (4, 4))\n",
        "print(tensor)\n",
        "print(\"\\n\")\n",
        "reversed_tensor = tf.reverse(tensor, axis=[1])\n",
        "print(reversed_tensor)"
      ],
      "metadata": {
        "colab": {
          "base_uri": "https://localhost:8080/"
        },
        "id": "w5ZyNcHA88u7",
        "outputId": "1549f67c-f797-49d3-d53d-583b37c24da5"
      },
      "execution_count": null,
      "outputs": [
        {
          "output_type": "stream",
          "name": "stdout",
          "text": [
            "tf.Tensor(\n",
            "[[ 1  2  3  4]\n",
            " [ 5  6  7  8]\n",
            " [ 9 10 11 12]\n",
            " [13 14 15 16]], shape=(4, 4), dtype=int32)\n",
            "\n",
            "\n",
            "tf.Tensor(\n",
            "[[ 4  3  2  1]\n",
            " [ 8  7  6  5]\n",
            " [12 11 10  9]\n",
            " [16 15 14 13]], shape=(4, 4), dtype=int32)\n"
          ]
        }
      ]
    },
    {
      "cell_type": "markdown",
      "source": [
        "### ### **Exercise 1.28**: Create a tensor of shape `(4, 4)` with values from 1 to 16. Reverse the order of elements in each column.\n",
        "\n",
        "```python\n",
        "tensor = tf.reshape(tf.range(1, 17), (4, 4))\n",
        "reversed_tensor = tf.reverse(tensor, axis=[0])\n",
        "print(reversed_tensor)\n",
        "```"
      ],
      "metadata": {
        "id": "uyiVOu1v-xjH"
      }
    },
    {
      "cell_type": "code",
      "source": [
        "tensor = tf.reshape(tf.range(1, 17), (4, 4))\n",
        "print(tensor)\n",
        "print(\"\\n\")\n",
        "reversed_tensor = tf.reverse(tensor, axis=[0])\n",
        "print(reversed_tensor)"
      ],
      "metadata": {
        "colab": {
          "base_uri": "https://localhost:8080/"
        },
        "id": "L_WVoii89HqY",
        "outputId": "d440815c-83d1-4760-c9a1-828bc3e3aa76"
      },
      "execution_count": null,
      "outputs": [
        {
          "output_type": "stream",
          "name": "stdout",
          "text": [
            "tf.Tensor(\n",
            "[[ 1  2  3  4]\n",
            " [ 5  6  7  8]\n",
            " [ 9 10 11 12]\n",
            " [13 14 15 16]], shape=(4, 4), dtype=int32)\n",
            "\n",
            "\n",
            "tf.Tensor(\n",
            "[[13 14 15 16]\n",
            " [ 9 10 11 12]\n",
            " [ 5  6  7  8]\n",
            " [ 1  2  3  4]], shape=(4, 4), dtype=int32)\n"
          ]
        }
      ]
    },
    {
      "cell_type": "code",
      "source": [
        "tensor = tf.reshape(tf.range(1, 25), (2,3,4))\n",
        "print(tensor)\n",
        "print(\"\\n\")\n",
        "reversed_tensor = tf.reverse(tensor, axis=[0])\n",
        "print(reversed_tensor)\n",
        "print(\"\\n\")\n",
        "reversed_tensor = tf.reverse(tensor, axis=[1])\n",
        "print(reversed_tensor)\n",
        "print(\"\\n\")\n",
        "reversed_tensor = tf.reverse(tensor, axis=[2])\n",
        "print(reversed_tensor)"
      ],
      "metadata": {
        "colab": {
          "base_uri": "https://localhost:8080/"
        },
        "id": "Q1TXlSoK9eMF",
        "outputId": "d66c2702-dee8-4c14-c857-88d61bbc6bb4"
      },
      "execution_count": null,
      "outputs": [
        {
          "output_type": "stream",
          "name": "stdout",
          "text": [
            "tf.Tensor(\n",
            "[[[ 1  2  3  4]\n",
            "  [ 5  6  7  8]\n",
            "  [ 9 10 11 12]]\n",
            "\n",
            " [[13 14 15 16]\n",
            "  [17 18 19 20]\n",
            "  [21 22 23 24]]], shape=(2, 3, 4), dtype=int32)\n",
            "\n",
            "\n",
            "tf.Tensor(\n",
            "[[[13 14 15 16]\n",
            "  [17 18 19 20]\n",
            "  [21 22 23 24]]\n",
            "\n",
            " [[ 1  2  3  4]\n",
            "  [ 5  6  7  8]\n",
            "  [ 9 10 11 12]]], shape=(2, 3, 4), dtype=int32)\n",
            "\n",
            "\n",
            "tf.Tensor(\n",
            "[[[ 9 10 11 12]\n",
            "  [ 5  6  7  8]\n",
            "  [ 1  2  3  4]]\n",
            "\n",
            " [[21 22 23 24]\n",
            "  [17 18 19 20]\n",
            "  [13 14 15 16]]], shape=(2, 3, 4), dtype=int32)\n",
            "\n",
            "\n",
            "tf.Tensor(\n",
            "[[[ 4  3  2  1]\n",
            "  [ 8  7  6  5]\n",
            "  [12 11 10  9]]\n",
            "\n",
            " [[16 15 14 13]\n",
            "  [20 19 18 17]\n",
            "  [24 23 22 21]]], shape=(2, 3, 4), dtype=int32)\n"
          ]
        }
      ]
    },
    {
      "cell_type": "markdown",
      "source": [
        "### **Exercise 1.29**: Create a tensor of shape `(5, 5)` with random values. Calculate the determinant of this tensor.\n",
        "\n",
        "```python\n",
        "tensor = tf.random.uniform((5, 5))\n",
        "determinant = tf.linalg.det(tensor)\n",
        "print(determinant)\n",
        "```"
      ],
      "metadata": {
        "id": "s1Qnhlzx-e4f"
      }
    },
    {
      "cell_type": "code",
      "source": [
        "tensor = tf.random.uniform((5, 5))\n",
        "determinant = tf.linalg.det(tensor)\n",
        "print(determinant)"
      ],
      "metadata": {
        "colab": {
          "base_uri": "https://localhost:8080/"
        },
        "id": "33Lq5Tdm_FNE",
        "outputId": "ebc449f0-2f88-4b19-9219-72e8d46dd188"
      },
      "execution_count": null,
      "outputs": [
        {
          "output_type": "stream",
          "name": "stdout",
          "text": [
            "tf.Tensor(0.066316605, shape=(), dtype=float32)\n"
          ]
        }
      ]
    },
    {
      "cell_type": "markdown",
      "source": [
        "### **Exercise 1.30**: Create a tensor of shape `(3, 3)` with random values. Calculate the inverse of this tensor (if it's invertible).\n",
        "\n",
        "```python\n",
        "tensor = tf.random.uniform((3, 3))\n",
        "inverse_tensor = tf.linalg.inv(tensor)\n",
        "print(inverse_tensor)\n",
        "```"
      ],
      "metadata": {
        "id": "JeI-JfyLAJOD"
      }
    },
    {
      "cell_type": "code",
      "source": [
        "tensor = tf.random.uniform((3, 3))\n",
        "print(tensor)\n",
        "print(\"\\n\")\n",
        "inverse_tensor = tf.linalg.inv(tensor)\n",
        "print(inverse_tensor)"
      ],
      "metadata": {
        "colab": {
          "base_uri": "https://localhost:8080/"
        },
        "id": "_xGw4pzr_H8W",
        "outputId": "4c9539fd-5507-4c9a-bfbe-64f2956454e9"
      },
      "execution_count": null,
      "outputs": [
        {
          "output_type": "stream",
          "name": "stdout",
          "text": [
            "tf.Tensor(\n",
            "[[0.6977099  0.02439511 0.9139519 ]\n",
            " [0.02176034 0.8284366  0.37790084]\n",
            " [0.85830176 0.59788954 0.28219283]], shape=(3, 3), dtype=float32)\n",
            "\n",
            "\n",
            "tf.Tensor(\n",
            "[[-0.01254268 -0.8636476   1.1971831 ]\n",
            " [-0.5093488   0.9404785   0.39020383]\n",
            " [ 1.1173201   0.6342045  -0.92434365]], shape=(3, 3), dtype=float32)\n"
          ]
        }
      ]
    },
    {
      "cell_type": "markdown",
      "source": [
        "### **Exercise 1.31**: Create a tensor of shape `(4, 4)` with values from 1 to 16. Flatten this tensor into a 1-D tensor.\n",
        "\n",
        "```python\n",
        "tensor = tf.reshape(tf.range(1, 17), (4, 4))\n",
        "flattened_tensor = tf.reshape(tensor, [-1])\n",
        "print(flattened_tensor)\n",
        "```"
      ],
      "metadata": {
        "id": "VvrmSC0KAsNI"
      }
    },
    {
      "cell_type": "code",
      "source": [
        "tensor = tf.reshape(tf.range(1, 17), (4, 4))\n",
        "print(tensor)\n",
        "print(\"\\n\")\n",
        "flattened_tensor = tf.reshape(tensor, [-1])\n",
        "print(flattened_tensor)"
      ],
      "metadata": {
        "colab": {
          "base_uri": "https://localhost:8080/"
        },
        "id": "EnhjCXRmAjqn",
        "outputId": "f2c5c718-9dab-4782-8925-6bbf8da7ad23"
      },
      "execution_count": null,
      "outputs": [
        {
          "output_type": "stream",
          "name": "stdout",
          "text": [
            "tf.Tensor(\n",
            "[[ 1  2  3  4]\n",
            " [ 5  6  7  8]\n",
            " [ 9 10 11 12]\n",
            " [13 14 15 16]], shape=(4, 4), dtype=int32)\n",
            "\n",
            "\n",
            "tf.Tensor([ 1  2  3  4  5  6  7  8  9 10 11 12 13 14 15 16], shape=(16,), dtype=int32)\n"
          ]
        }
      ]
    },
    {
      "cell_type": "markdown",
      "source": [
        "###  **Exercise 1.32**: Create a tensor of shape `(3, 3, 3)` with random values. Slice this tensor to get the first two elements along the first dimension.\n",
        "\n",
        "```python\n",
        "tensor = tf.random.uniform((3, 3, 3))\n",
        "sliced_tensor = tensor[:2, :, :]\n",
        "print(sliced_tensor)\n",
        "```"
      ],
      "metadata": {
        "id": "K1K3TaeoCexU"
      }
    },
    {
      "cell_type": "code",
      "source": [
        "tensor = tf.random.uniform((3, 3, 3))\n",
        "print(tensor)\n",
        "print(\"\\n\")\n",
        "sliced_tensor0 = tensor[:2, :, :]\n",
        "print(sliced_tensor)\n",
        "sliced_tensor1 = tensor[:2, :2, :]\n",
        "print(sliced_tensor)\n",
        "sliced_tensor2 = tensor[:2, :2, :2]\n",
        "print(sliced_tensor)"
      ],
      "metadata": {
        "colab": {
          "base_uri": "https://localhost:8080/"
        },
        "id": "DvDXSY4yA5Gc",
        "outputId": "ecc9b245-4813-464c-bca7-aa0702e42684"
      },
      "execution_count": null,
      "outputs": [
        {
          "output_type": "stream",
          "name": "stdout",
          "text": [
            "tf.Tensor(\n",
            "[[[0.726774   0.09455466 0.98843205]\n",
            "  [0.441522   0.7863184  0.58635056]\n",
            "  [0.9326335  0.7546983  0.9889581 ]]\n",
            "\n",
            " [[0.577229   0.43325675 0.7767762 ]\n",
            "  [0.5943233  0.45460105 0.9382982 ]\n",
            "  [0.74622834 0.429101   0.22449958]]\n",
            "\n",
            " [[0.32361543 0.76701343 0.8127787 ]\n",
            "  [0.34617305 0.29057884 0.09946346]\n",
            "  [0.15137768 0.5925269  0.06499994]]], shape=(3, 3, 3), dtype=float32)\n",
            "\n",
            "\n",
            "tf.Tensor(\n",
            "[[[0.2928983  0.13033259]\n",
            "  [0.4118985  0.5480361 ]]\n",
            "\n",
            " [[0.35642326 0.05712414]\n",
            "  [0.36564064 0.16358149]]], shape=(2, 2, 2), dtype=float32)\n",
            "tf.Tensor(\n",
            "[[[0.2928983  0.13033259]\n",
            "  [0.4118985  0.5480361 ]]\n",
            "\n",
            " [[0.35642326 0.05712414]\n",
            "  [0.36564064 0.16358149]]], shape=(2, 2, 2), dtype=float32)\n",
            "tf.Tensor(\n",
            "[[[0.2928983  0.13033259]\n",
            "  [0.4118985  0.5480361 ]]\n",
            "\n",
            " [[0.35642326 0.05712414]\n",
            "  [0.36564064 0.16358149]]], shape=(2, 2, 2), dtype=float32)\n"
          ]
        }
      ]
    },
    {
      "cell_type": "code",
      "source": [
        "tensor = tf.random.uniform((3, 3, 3))\n",
        "print(tensor)\n",
        "print(\"\\n\")\n",
        "sliced_tensor = tensor[1:2, :1, :1]\n",
        "print(sliced_tensor)\n"
      ],
      "metadata": {
        "colab": {
          "base_uri": "https://localhost:8080/"
        },
        "id": "YgKlmTlFDVM0",
        "outputId": "ee9dcfc4-a24d-4336-ae3a-683f3df58385"
      },
      "execution_count": null,
      "outputs": [
        {
          "output_type": "stream",
          "name": "stdout",
          "text": [
            "tf.Tensor(\n",
            "[[[0.29438627 0.99649215 0.88832223]\n",
            "  [0.5622302  0.9798237  0.34900773]\n",
            "  [0.09645367 0.04779387 0.8321619 ]]\n",
            "\n",
            " [[0.1753596  0.94031584 0.63521624]\n",
            "  [0.00839889 0.73268056 0.26641762]\n",
            "  [0.08868098 0.28122413 0.7277858 ]]\n",
            "\n",
            " [[0.57776606 0.33785057 0.3724817 ]\n",
            "  [0.62784994 0.8479384  0.8305588 ]\n",
            "  [0.6040845  0.8737924  0.13997447]]], shape=(3, 3, 3), dtype=float32)\n",
            "\n",
            "\n",
            "tf.Tensor([[[0.1753596]]], shape=(1, 1, 1), dtype=float32)\n"
          ]
        }
      ]
    },
    {
      "cell_type": "markdown",
      "source": [
        "### **Exercise 1.33**: Create a tensor of shape `(6, 6)` with random values. Select and print every other row and column.\n",
        "\n",
        "```python\n",
        "tensor = tf.random.uniform((6, 6))\n",
        "sliced_tensor = tensor[::2, ::2]\n",
        "print(sliced_tensor)\n",
        "```"
      ],
      "metadata": {
        "id": "FDuIaEoulinj"
      }
    },
    {
      "cell_type": "code",
      "source": [
        "tensor = tf.random.uniform((9, 4))\n",
        "print(tensor)\n",
        "print(\"\\n\")\n",
        "sliced_tensor = tensor[::3, ::3]\n",
        "print(sliced_tensor)"
      ],
      "metadata": {
        "colab": {
          "base_uri": "https://localhost:8080/"
        },
        "id": "Q4jME-DuD-lL",
        "outputId": "8762c8a3-8ca2-4a74-c065-7f403fa55351"
      },
      "execution_count": null,
      "outputs": [
        {
          "output_type": "stream",
          "name": "stdout",
          "text": [
            "tf.Tensor(\n",
            "[[0.2876389  0.2838689  0.24167025 0.2392205 ]\n",
            " [0.1155535  0.6878636  0.22255778 0.26586723]\n",
            " [0.6652063  0.57510495 0.61145675 0.82786083]\n",
            " [0.75984156 0.5787777  0.8690994  0.11727417]\n",
            " [0.86857927 0.5910324  0.332489   0.4820521 ]\n",
            " [0.37193477 0.7416289  0.34761012 0.83183634]\n",
            " [0.18892622 0.8688972  0.15095377 0.76019895]\n",
            " [0.13809705 0.04393101 0.8479638  0.48946047]\n",
            " [0.99992085 0.09968555 0.2684431  0.6949419 ]], shape=(9, 4), dtype=float32)\n",
            "\n",
            "\n",
            "tf.Tensor(\n",
            "[[0.2876389  0.2392205 ]\n",
            " [0.75984156 0.11727417]\n",
            " [0.18892622 0.76019895]], shape=(3, 2), dtype=float32)\n"
          ]
        }
      ]
    },
    {
      "cell_type": "markdown",
      "source": [
        "### **Exercise 1.34**: Create a tensor of shape `(3, 3, 3)` with random values. Sum the tensor along the second dimension.\n",
        "\n",
        "```python\n",
        "tensor = tf.random.uniform((3, 3, 3))\n",
        "summed_tensor = tf.reduce_sum(tensor, axis=1)\n",
        "print(summed_tensor)\n",
        "```"
      ],
      "metadata": {
        "id": "TS6Xae_11jYC"
      }
    },
    {
      "cell_type": "code",
      "source": [
        "tensor = tf.random.uniform((3,3,3))\n",
        "print(tensor)\n",
        "print(\"\\n\")\n",
        "summed_tensor = tf.reduce_sum(tensor, axis=1)\n",
        "print(summed_tensor)"
      ],
      "metadata": {
        "colab": {
          "base_uri": "https://localhost:8080/"
        },
        "id": "ep4I957el5QK",
        "outputId": "28336edc-adee-4ec3-ecd2-82174374e2f5"
      },
      "execution_count": null,
      "outputs": [
        {
          "output_type": "stream",
          "name": "stdout",
          "text": [
            "tf.Tensor(\n",
            "[[[0.35960162 0.6449121  0.03177512]\n",
            "  [0.46776795 0.9073645  0.5707902 ]\n",
            "  [0.3714559  0.4989164  0.8294594 ]]\n",
            "\n",
            " [[0.36843622 0.19478047 0.00617957]\n",
            "  [0.57095325 0.89587224 0.93769217]\n",
            "  [0.13420367 0.28416562 0.77790284]]\n",
            "\n",
            " [[0.13094127 0.8727237  0.8160578 ]\n",
            "  [0.4524815  0.6777934  0.02721226]\n",
            "  [0.05320191 0.41025496 0.0081836 ]]], shape=(3, 3, 3), dtype=float32)\n",
            "\n",
            "\n",
            "tf.Tensor(\n",
            "[[1.1988255  2.051193   1.4320247 ]\n",
            " [1.0735931  1.3748183  1.7217746 ]\n",
            " [0.6366247  1.960772   0.85145366]], shape=(3, 3), dtype=float32)\n",
            "\n",
            "\n",
            "tf.Tensor(\n",
            "[[0.8589791 1.7124163 0.8540125]\n",
            " [1.4912027 2.48103   1.5356946]\n",
            " [0.5588615 1.193337  1.6155459]], shape=(3, 3), dtype=float32)\n",
            "\n",
            "\n",
            "tf.Tensor(\n",
            "[[1.0362889  1.9459226  1.6998317 ]\n",
            " [0.56939626 2.4045177  1.1962721 ]\n",
            " [1.8197228  1.1574872  0.47164047]], shape=(3, 3), dtype=float32)\n"
          ]
        }
      ]
    },
    {
      "cell_type": "code",
      "source": [
        "tensor = tf.reshape(tf.range(0.1, 2.5, 0.1, dtype=tf.float32), (2, 3, 4))\n",
        "tensor = tf.round(tensor * 10) / 10\n",
        "print(tensor)\n",
        "print(\"\\n\")\n",
        "summed_tensor = tf.reduce_sum(tensor, axis=0)\n",
        "print(summed_tensor)\n",
        "print(\"\\n\")\n",
        "summed_tensor = tf.reduce_sum(tensor, axis=1)\n",
        "print(summed_tensor)\n",
        "print(\"\\n\")\n",
        "summed_tensor = tf.reduce_sum(tensor, axis=2)\n",
        "print(summed_tensor)"
      ],
      "metadata": {
        "colab": {
          "base_uri": "https://localhost:8080/"
        },
        "id": "uOQWYVk54peg",
        "outputId": "17d3c30a-d883-4b8f-8024-126f3c6bedc9"
      },
      "execution_count": null,
      "outputs": [
        {
          "output_type": "stream",
          "name": "stdout",
          "text": [
            "tf.Tensor(\n",
            "[[[0.1 0.2 0.3 0.4]\n",
            "  [0.5 0.6 0.7 0.8]\n",
            "  [0.9 1.  1.1 1.2]]\n",
            "\n",
            " [[1.3 1.4 1.5 1.6]\n",
            "  [1.7 1.8 1.9 2. ]\n",
            "  [2.1 2.2 2.3 2.4]]], shape=(2, 3, 4), dtype=float32)\n",
            "\n",
            "\n",
            "tf.Tensor(\n",
            "[[1.4       1.6       1.8       2.       ]\n",
            " [2.2       2.4       2.6       2.8      ]\n",
            " [3.        3.2       3.4       3.6000001]], shape=(3, 4), dtype=float32)\n",
            "\n",
            "\n",
            "tf.Tensor(\n",
            "[[1.5       1.8       2.1       2.4      ]\n",
            " [5.1       5.3999996 5.7       6.       ]], shape=(2, 4), dtype=float32)\n",
            "\n",
            "\n",
            "tf.Tensor(\n",
            "[[1.        2.6       4.2      ]\n",
            " [5.7999997 7.4       9.       ]], shape=(2, 3), dtype=float32)\n"
          ]
        }
      ]
    },
    {
      "cell_type": "markdown",
      "source": [
        "### **Exercise 1.35**: Create a tensor of shape `(4, 4)` with random values. Split this tensor into four 2x2 sub-tensors.\n",
        "\n",
        "```python\n",
        "tensor = tf.random.uniform((4, 4))\n",
        "sub_tensors = tf.split(tensor, num_or_size_splits=2, axis=0)\n",
        "sub_tensors = [tf.split(sub_tensor, num_or_size_splits=2, axis=1) for sub_tensor in sub_tensors]\n",
        "print(sub_tensors[0][0])\n",
        "print(sub_tensors[0][1])\n",
        "print(sub_tensors[1][0])\n",
        "print(sub_tensors[1][1])\n",
        "```"
      ],
      "metadata": {
        "id": "_gF7vb-9CR5W"
      }
    },
    {
      "cell_type": "code",
      "source": [
        "tensor = tf.random.uniform((4, 4))\n",
        "print(tensor)\n",
        "print(\"\\n\")\n",
        "sub_tensors = tf.split(tensor, num_or_size_splits=2, axis=0)\n",
        "print(sub_tensors)\n",
        "print(\"\\n\")\n",
        "sub_tensors = [tf.split(sub_tensor, num_or_size_splits=2, axis=1) for sub_tensor in sub_tensors]\n",
        "print(sub_tensors)\n",
        "print(\"\\n\")\n",
        "print(sub_tensors[0][0])\n",
        "print(\"\\n\")\n",
        "print(sub_tensors[0][1])\n",
        "print(\"\\n\")\n",
        "print(sub_tensors[1][0])\n",
        "print(\"\\n\")\n",
        "print(sub_tensors[1][1])"
      ],
      "metadata": {
        "colab": {
          "base_uri": "https://localhost:8080/"
        },
        "id": "dVeTZ0sa2Ibg",
        "outputId": "f2f144e8-3f2a-4f48-fb21-d2bc08e36c87"
      },
      "execution_count": null,
      "outputs": [
        {
          "output_type": "stream",
          "name": "stdout",
          "text": [
            "tf.Tensor(\n",
            "[[0.48285758 0.26693928 0.18382025 0.2302196 ]\n",
            " [0.3255893  0.5042473  0.63711214 0.95684874]\n",
            " [0.35219467 0.00682306 0.2579291  0.75935197]\n",
            " [0.503266   0.39050043 0.81763744 0.30535412]], shape=(4, 4), dtype=float32)\n",
            "\n",
            "\n",
            "[<tf.Tensor: shape=(2, 4), dtype=float32, numpy=\n",
            "array([[0.48285758, 0.26693928, 0.18382025, 0.2302196 ],\n",
            "       [0.3255893 , 0.5042473 , 0.63711214, 0.95684874]], dtype=float32)>, <tf.Tensor: shape=(2, 4), dtype=float32, numpy=\n",
            "array([[0.35219467, 0.00682306, 0.2579291 , 0.75935197],\n",
            "       [0.503266  , 0.39050043, 0.81763744, 0.30535412]], dtype=float32)>]\n",
            "\n",
            "\n",
            "[[<tf.Tensor: shape=(2, 2), dtype=float32, numpy=\n",
            "array([[0.48285758, 0.26693928],\n",
            "       [0.3255893 , 0.5042473 ]], dtype=float32)>, <tf.Tensor: shape=(2, 2), dtype=float32, numpy=\n",
            "array([[0.18382025, 0.2302196 ],\n",
            "       [0.63711214, 0.95684874]], dtype=float32)>], [<tf.Tensor: shape=(2, 2), dtype=float32, numpy=\n",
            "array([[0.35219467, 0.00682306],\n",
            "       [0.503266  , 0.39050043]], dtype=float32)>, <tf.Tensor: shape=(2, 2), dtype=float32, numpy=\n",
            "array([[0.2579291 , 0.75935197],\n",
            "       [0.81763744, 0.30535412]], dtype=float32)>]]\n",
            "\n",
            "\n",
            "tf.Tensor(\n",
            "[[0.48285758 0.26693928]\n",
            " [0.3255893  0.5042473 ]], shape=(2, 2), dtype=float32)\n",
            "\n",
            "\n",
            "tf.Tensor(\n",
            "[[0.18382025 0.2302196 ]\n",
            " [0.63711214 0.95684874]], shape=(2, 2), dtype=float32)\n",
            "\n",
            "\n",
            "tf.Tensor(\n",
            "[[0.35219467 0.00682306]\n",
            " [0.503266   0.39050043]], shape=(2, 2), dtype=float32)\n",
            "\n",
            "\n",
            "tf.Tensor(\n",
            "[[0.2579291  0.75935197]\n",
            " [0.81763744 0.30535412]], shape=(2, 2), dtype=float32)\n"
          ]
        }
      ]
    },
    {
      "cell_type": "markdown",
      "source": [
        "### **Exercise 1.36**: Create a tensor of shape `(3, 4)` with random values. Stack this tensor with itself along a new dimension to create a tensor of shape `(2, 3, 4)`.\n",
        "\n",
        "```python\n",
        "tensor = tf.random.uniform((3, 4))\n",
        "stacked_tensor = tf.stack([tensor, tensor], axis=0)\n",
        "print(stacked_tensor)\n",
        "```"
      ],
      "metadata": {
        "id": "0UKCoaaMUfdK"
      }
    },
    {
      "cell_type": "code",
      "source": [
        "tensor = tf.random.uniform((3, 4))\n",
        "print(tensor)\n",
        "print(\"\\n\")\n",
        "stacked_tensor = tf.stack([tensor, tensor], axis=0)\n",
        "print(stacked_tensor)"
      ],
      "metadata": {
        "colab": {
          "base_uri": "https://localhost:8080/"
        },
        "id": "pOW1xSiZCmGE",
        "outputId": "734777a7-34dd-4661-89a2-6d16296fcd99"
      },
      "execution_count": null,
      "outputs": [
        {
          "output_type": "stream",
          "name": "stdout",
          "text": [
            "tf.Tensor(\n",
            "[[0.67470443 0.69526803 0.06844628 0.9604924 ]\n",
            " [0.9215143  0.23192132 0.42629695 0.16379893]\n",
            " [0.28489304 0.19684625 0.6709516  0.6633531 ]], shape=(3, 4), dtype=float32)\n",
            "\n",
            "\n",
            "tf.Tensor(\n",
            "[[[0.67470443 0.69526803 0.06844628 0.9604924 ]\n",
            "  [0.9215143  0.23192132 0.42629695 0.16379893]\n",
            "  [0.28489304 0.19684625 0.6709516  0.6633531 ]]\n",
            "\n",
            " [[0.67470443 0.69526803 0.06844628 0.9604924 ]\n",
            "  [0.9215143  0.23192132 0.42629695 0.16379893]\n",
            "  [0.28489304 0.19684625 0.6709516  0.6633531 ]]], shape=(2, 3, 4), dtype=float32)\n"
          ]
        }
      ]
    },
    {
      "cell_type": "markdown",
      "source": [
        "### **Exercise 1.37**: Create two tensors of shape `(3, 3)` with random values. Compute the element-wise maximum and minimum of these tensors.\n",
        "\n",
        "```python\n",
        "tensor1 = tf.random.uniform((3, 3))\n",
        "tensor2 = tf.random.uniform((3, 3))\n",
        "max_tensor = tf.maximum(tensor1, tensor2)\n",
        "min_tensor = tf.minimum(tensor1, tensor2)\n",
        "print(\"Element-wise maximum:\\n\", max_tensor)\n",
        "print(\"Element-wise minimum:\\n\", min_tensor)\n",
        "```"
      ],
      "metadata": {
        "id": "Uci2YQvEVCaS"
      }
    },
    {
      "cell_type": "code",
      "source": [
        "tensor1 = tf.random.uniform((3, 3))\n",
        "print(tensor1)\n",
        "print(\"\\n\")\n",
        "tensor2 = tf.random.uniform((3, 3))\n",
        "print(tensor2)\n",
        "print(\"\\n\")\n",
        "max_tensor = tf.maximum(tensor1, tensor2)\n",
        "min_tensor = tf.minimum(tensor1, tensor2)\n",
        "print(\"Element-wise maximum:\\n\", max_tensor)\n",
        "print(\"\\n\")\n",
        "print(\"Element-wise minimum:\\n\", min_tensor)"
      ],
      "metadata": {
        "colab": {
          "base_uri": "https://localhost:8080/"
        },
        "id": "RixhBrrpVGSq",
        "outputId": "6d741be5-6b6c-4170-a209-2ca93c01a5d4"
      },
      "execution_count": null,
      "outputs": [
        {
          "output_type": "stream",
          "name": "stdout",
          "text": [
            "tf.Tensor(\n",
            "[[0.04978693 0.17020154 0.7548919 ]\n",
            " [0.09679735 0.5094514  0.04136527]\n",
            " [0.5542927  0.14712596 0.31040072]], shape=(3, 3), dtype=float32)\n",
            "\n",
            "\n",
            "tf.Tensor(\n",
            "[[0.7081362  0.69033563 0.21733165]\n",
            " [0.7666391  0.6396003  0.48016143]\n",
            " [0.9269599  0.5956979  0.44160295]], shape=(3, 3), dtype=float32)\n",
            "\n",
            "\n",
            "Element-wise maximum:\n",
            " tf.Tensor(\n",
            "[[0.7081362  0.69033563 0.7548919 ]\n",
            " [0.7666391  0.6396003  0.48016143]\n",
            " [0.9269599  0.5956979  0.44160295]], shape=(3, 3), dtype=float32)\n",
            "\n",
            "\n",
            "Element-wise minimum:\n",
            " tf.Tensor(\n",
            "[[0.04978693 0.17020154 0.21733165]\n",
            " [0.09679735 0.5094514  0.04136527]\n",
            " [0.5542927  0.14712596 0.31040072]], shape=(3, 3), dtype=float32)\n"
          ]
        }
      ]
    },
    {
      "cell_type": "markdown",
      "source": [
        "### **Exercise 1.38**: Create a tensor of shape `(4, 4)` with random values. Clip the values in this tensor to be between 0.2 and 0.8.\n",
        "\n",
        "```python\n",
        "tensor = tf.random.uniform((4, 4))\n",
        "clipped_tensor = tf.clip_by_value(tensor, clip_value_min=0.2, clip_value_max=0.8)\n",
        "print(clipped_tensor)\n",
        "```"
      ],
      "metadata": {
        "id": "rjp1T9C-WwVZ"
      }
    },
    {
      "cell_type": "code",
      "source": [
        "tensor = tf.random.uniform((4, 4))\n",
        "print(tensor)\n",
        "print(\"\\n\")\n",
        "clipped_tensor = tf.clip_by_value(tensor, clip_value_min=0.2, clip_value_max=0.8)\n",
        "print(clipped_tensor)"
      ],
      "metadata": {
        "colab": {
          "base_uri": "https://localhost:8080/"
        },
        "id": "luWpyiCcVbTU",
        "outputId": "2c873dfc-0844-4892-fa9c-afe998fd8728"
      },
      "execution_count": null,
      "outputs": [
        {
          "output_type": "stream",
          "name": "stdout",
          "text": [
            "tf.Tensor(\n",
            "[[0.6479721  0.5655178  0.31252658 0.690218  ]\n",
            " [0.3194183  0.8105973  0.2746669  0.03204834]\n",
            " [0.6319951  0.7076889  0.19439995 0.5601405 ]\n",
            " [0.6642617  0.49075532 0.67101884 0.27476668]], shape=(4, 4), dtype=float32)\n",
            "\n",
            "\n",
            "tf.Tensor(\n",
            "[[0.6479721  0.5655178  0.31252658 0.690218  ]\n",
            " [0.3194183  0.8        0.2746669  0.2       ]\n",
            " [0.6319951  0.7076889  0.2        0.5601405 ]\n",
            " [0.6642617  0.49075532 0.67101884 0.27476668]], shape=(4, 4), dtype=float32)\n"
          ]
        }
      ]
    },
    {
      "cell_type": "markdown",
      "source": [
        "### **Exercise 1.39**: Create two tensors of shape `(3, 4)` with random values. Perform matrix multiplication of these tensors with another tensor of shape `(4, 5)` using broadcasting.\n",
        "\n",
        "```python\n",
        "tensor1 = tf.random.uniform((2, 3, 4))\n",
        "tensor2 = tf.random.uniform((4, 5))\n",
        "\n",
        "# Matrix multiplication with broadcasting\n",
        "result = tf.matmul(tensor2, tensor2)\n",
        "print(result)\n",
        "```"
      ],
      "metadata": {
        "id": "ainVjKN6XH8k"
      }
    },
    {
      "cell_type": "code",
      "source": [
        "tensor1 = tf.random.uniform((2, 3, 4))\n",
        "print(tensor1)\n",
        "print(\"\\n\")\n",
        "tensor2 = tf.random.uniform((4, 5))\n",
        "print(tensor2)\n",
        "print(\"\\n\")\n",
        "\n",
        "# Matrix multiplication with broadcasting\n",
        "result = tf.matmul(tensor1, tensor2)\n",
        "print(result)"
      ],
      "metadata": {
        "colab": {
          "base_uri": "https://localhost:8080/"
        },
        "id": "Vp3veOBZW9fs",
        "outputId": "5cbfec5e-272d-4d51-8678-c24874f0f30d"
      },
      "execution_count": null,
      "outputs": [
        {
          "output_type": "stream",
          "name": "stdout",
          "text": [
            "tf.Tensor(\n",
            "[[[0.8780794  0.26239955 0.07595193 0.40588307]\n",
            "  [0.86252415 0.533973   0.62635756 0.18634748]\n",
            "  [0.04382479 0.0490998  0.43202293 0.23137295]]\n",
            "\n",
            " [[0.44416046 0.27652586 0.9120767  0.25665843]\n",
            "  [0.05764306 0.07638669 0.5451591  0.79119563]\n",
            "  [0.81265295 0.5181327  0.6603806  0.5202035 ]]], shape=(2, 3, 4), dtype=float32)\n",
            "\n",
            "\n",
            "tf.Tensor(\n",
            "[[0.9000511  0.3208164  0.90875804 0.08648014 0.7146832 ]\n",
            " [0.6287576  0.35423315 0.15925288 0.63336766 0.19517016]\n",
            " [0.55595756 0.34833002 0.33700645 0.8003528  0.21154821]\n",
            " [0.06543839 0.8623445  0.54180574 0.09577477 0.40850246]], shape=(4, 5), dtype=float32)\n",
            "\n",
            "\n",
            "tf.Tensor(\n",
            "[[[1.0240885  0.75112027 1.0852556  0.34179354 0.8606329 ]\n",
            "  [1.4724778  0.8447377  1.1809132  0.9319468  0.92927533]\n",
            "  [0.3256435  0.38146225 0.3185991  0.40281868 0.22681376]]\n",
            "\n",
            " [[1.0975062  0.77948034 0.8941067  0.9681182  0.6691974 ]\n",
            "  [0.4547703  0.91773003 0.67694485 0.565462   0.49463773]\n",
            "  [1.4583939  1.1228771  1.3254207  0.9768067  1.0341202 ]]], shape=(2, 3, 5), dtype=float32)\n"
          ]
        }
      ]
    },
    {
      "cell_type": "markdown",
      "source": [
        "### **Exercise 1.40**: Create a tensor of shape `(4, 4, 4)` with random values. Transpose this tensor, swapping the second and third dimensions.\n",
        "\n",
        "```python\n",
        "tensor = tf.random.uniform((2, 3, 4, 5))\n",
        "transposed = tf.transpose(tensor, perm=[0, 2, 1, 3])\n",
        "print(transposed)\n",
        "```"
      ],
      "metadata": {
        "id": "ebl5QPP5YsCg"
      }
    },
    {
      "cell_type": "code",
      "source": [
        "tensor = tf.random.uniform((2, 3, 4, 5))\n",
        "print(tensor)\n",
        "print(\"\\n\")\n",
        "transposed = tf.transpose(tensor, perm=[0, 2, 1, 3])\n",
        "print(transposed)"
      ],
      "metadata": {
        "colab": {
          "base_uri": "https://localhost:8080/"
        },
        "id": "9wUVyW-xXn30",
        "outputId": "ab28e17e-9e31-45db-c708-d49297bf0d53"
      },
      "execution_count": null,
      "outputs": [
        {
          "output_type": "stream",
          "name": "stdout",
          "text": [
            "tf.Tensor(\n",
            "[[[[0.32446933 0.62303805 0.98415077 0.2719053  0.58079517]\n",
            "   [0.5853435  0.4870553  0.29575384 0.5928421  0.12469459]\n",
            "   [0.04310882 0.39283288 0.7261604  0.3441602  0.3404374 ]\n",
            "   [0.17259204 0.4941944  0.02754986 0.8631463  0.8216777 ]]\n",
            "\n",
            "  [[0.88642037 0.26471853 0.4689802  0.9818176  0.8838476 ]\n",
            "   [0.8032005  0.01216292 0.8773105  0.66653407 0.0692178 ]\n",
            "   [0.62811196 0.69068503 0.00588036 0.8535117  0.62828374]\n",
            "   [0.5034963  0.80665123 0.01096976 0.88732433 0.42610538]]\n",
            "\n",
            "  [[0.42652893 0.17313147 0.7076216  0.6324519  0.19139922]\n",
            "   [0.12684536 0.31938648 0.47498226 0.5302758  0.8931258 ]\n",
            "   [0.9004781  0.657133   0.9880712  0.3665681  0.75365937]\n",
            "   [0.08968234 0.6970904  0.39361703 0.12195802 0.55396867]]]\n",
            "\n",
            "\n",
            " [[[0.69821656 0.7602478  0.33692968 0.45059443 0.75917244]\n",
            "   [0.67404306 0.04071832 0.04887354 0.68329525 0.67216814]\n",
            "   [0.65858316 0.47917008 0.16302168 0.04102874 0.9000932 ]\n",
            "   [0.9255756  0.5997509  0.74041915 0.5545734  0.275913  ]]\n",
            "\n",
            "  [[0.48918438 0.29133427 0.3908851  0.60440373 0.58403826]\n",
            "   [0.7245679  0.3131231  0.43405962 0.690271   0.6870508 ]\n",
            "   [0.4819739  0.8916571  0.9704318  0.80795884 0.6567702 ]\n",
            "   [0.24355769 0.38329923 0.7138951  0.7343823  0.7581725 ]]\n",
            "\n",
            "  [[0.04940665 0.2571969  0.73965704 0.7006593  0.51968634]\n",
            "   [0.27690005 0.63069534 0.41695964 0.34954643 0.18722439]\n",
            "   [0.4727491  0.71682596 0.6132691  0.5217446  0.4129479 ]\n",
            "   [0.5484551  0.8829591  0.2565843  0.7854973  0.00591934]]]], shape=(2, 3, 4, 5), dtype=float32)\n",
            "\n",
            "\n",
            "tf.Tensor(\n",
            "[[[[0.32446933 0.62303805 0.98415077 0.2719053  0.58079517]\n",
            "   [0.88642037 0.26471853 0.4689802  0.9818176  0.8838476 ]\n",
            "   [0.42652893 0.17313147 0.7076216  0.6324519  0.19139922]]\n",
            "\n",
            "  [[0.5853435  0.4870553  0.29575384 0.5928421  0.12469459]\n",
            "   [0.8032005  0.01216292 0.8773105  0.66653407 0.0692178 ]\n",
            "   [0.12684536 0.31938648 0.47498226 0.5302758  0.8931258 ]]\n",
            "\n",
            "  [[0.04310882 0.39283288 0.7261604  0.3441602  0.3404374 ]\n",
            "   [0.62811196 0.69068503 0.00588036 0.8535117  0.62828374]\n",
            "   [0.9004781  0.657133   0.9880712  0.3665681  0.75365937]]\n",
            "\n",
            "  [[0.17259204 0.4941944  0.02754986 0.8631463  0.8216777 ]\n",
            "   [0.5034963  0.80665123 0.01096976 0.88732433 0.42610538]\n",
            "   [0.08968234 0.6970904  0.39361703 0.12195802 0.55396867]]]\n",
            "\n",
            "\n",
            " [[[0.69821656 0.7602478  0.33692968 0.45059443 0.75917244]\n",
            "   [0.48918438 0.29133427 0.3908851  0.60440373 0.58403826]\n",
            "   [0.04940665 0.2571969  0.73965704 0.7006593  0.51968634]]\n",
            "\n",
            "  [[0.67404306 0.04071832 0.04887354 0.68329525 0.67216814]\n",
            "   [0.7245679  0.3131231  0.43405962 0.690271   0.6870508 ]\n",
            "   [0.27690005 0.63069534 0.41695964 0.34954643 0.18722439]]\n",
            "\n",
            "  [[0.65858316 0.47917008 0.16302168 0.04102874 0.9000932 ]\n",
            "   [0.4819739  0.8916571  0.9704318  0.80795884 0.6567702 ]\n",
            "   [0.4727491  0.71682596 0.6132691  0.5217446  0.4129479 ]]\n",
            "\n",
            "  [[0.9255756  0.5997509  0.74041915 0.5545734  0.275913  ]\n",
            "   [0.24355769 0.38329923 0.7138951  0.7343823  0.7581725 ]\n",
            "   [0.5484551  0.8829591  0.2565843  0.7854973  0.00591934]]]], shape=(2, 4, 3, 5), dtype=float32)\n"
          ]
        }
      ]
    },
    {
      "cell_type": "markdown",
      "source": [
        "### **Exercise 1.41**: Create two tensors of shape `(3, 4)` with random values. Compute the element-wise maximum and minimum of these tensors.\n",
        "\n",
        "```python\n",
        "tensor1 = tf.random.uniform((3, 4))\n",
        "tensor2 = tf.random.uniform((3, 4))\n",
        "print(tensor1)\n",
        "print(\"\\n\")\n",
        "print(tensor2)\n",
        "print(\"\\n\")\n",
        "maximum = tf.maximum(tensor1, tensor2)\n",
        "print(maximum)\n",
        "print(\"\\n\")\n",
        "minimum = tf.minimum(tensor1, tensor2)\n",
        "print(minimum)\n",
        "```\n"
      ],
      "metadata": {
        "id": "lFMNarJ7Lvuz"
      }
    },
    {
      "cell_type": "code",
      "source": [
        "tensor1 = tf.random.uniform((3, 4))\n",
        "tensor2 = tf.random.uniform((3, 4))\n",
        "print(tensor1)\n",
        "print(\"\\n\")\n",
        "print(tensor2)\n",
        "print(\"\\n\")\n",
        "maximum = tf.maximum(tensor1, tensor2)\n",
        "print(maximum)\n",
        "print(\"\\n\")\n",
        "minimum = tf.minimum(tensor1, tensor2)\n",
        "print(minimum)"
      ],
      "metadata": {
        "colab": {
          "base_uri": "https://localhost:8080/"
        },
        "id": "_gF4g99bZBni",
        "outputId": "d7067186-b512-4b1a-aa47-17ed7c5bf85c"
      },
      "execution_count": null,
      "outputs": [
        {
          "output_type": "stream",
          "name": "stdout",
          "text": [
            "tf.Tensor(\n",
            "[[0.61362934 0.12119591 0.2735225  0.00255346]\n",
            " [0.3645153  0.67077374 0.5799446  0.593295  ]\n",
            " [0.20093668 0.5040746  0.18972886 0.8169426 ]], shape=(3, 4), dtype=float32)\n",
            "\n",
            "\n",
            "tf.Tensor(\n",
            "[[0.17241347 0.7937285  0.30165267 0.4567914 ]\n",
            " [0.770964   0.22982252 0.68450284 0.6977658 ]\n",
            " [0.47637033 0.84248996 0.4314127  0.39556432]], shape=(3, 4), dtype=float32)\n",
            "\n",
            "\n",
            "tf.Tensor(\n",
            "[[0.61362934 0.7937285  0.30165267 0.4567914 ]\n",
            " [0.770964   0.67077374 0.68450284 0.6977658 ]\n",
            " [0.47637033 0.84248996 0.4314127  0.8169426 ]], shape=(3, 4), dtype=float32)\n",
            "\n",
            "\n",
            "tf.Tensor(\n",
            "[[0.17241347 0.12119591 0.2735225  0.00255346]\n",
            " [0.3645153  0.22982252 0.5799446  0.593295  ]\n",
            " [0.20093668 0.5040746  0.18972886 0.39556432]], shape=(3, 4), dtype=float32)\n"
          ]
        }
      ]
    },
    {
      "cell_type": "markdown",
      "source": [
        "### **Exercise 1.42**: Create a tensor of shape `(5, 5)` with random values. Slice this tensor to get a `(2, 2)` sub-tensor from the center and assign new values to this sliced part.\n",
        "\n",
        "```python\n",
        "tensor = tf.Variable(tf.random.uniform((5, 5)))\n",
        "\n",
        "# Slice and assign\n",
        "tensor[1:3, 2:4].assign(tf.ones((2, 2)))\n",
        "\n",
        "print(tensor)\n",
        "```"
      ],
      "metadata": {
        "id": "XbIotHS7NkZ7"
      }
    },
    {
      "cell_type": "code",
      "source": [
        "tensor = tf.Variable(tf.random.uniform((5, 5)))\n",
        "print(tensor)\n",
        "print(\"\\n\")\n",
        "# Slice and assign\n",
        "tensor[1:3, 2:4].assign(tf.ones((2, 2)))\n",
        "print(tensor)"
      ],
      "metadata": {
        "colab": {
          "base_uri": "https://localhost:8080/"
        },
        "id": "Y262hhE3My93",
        "outputId": "8268655c-1d08-4140-b118-b42a3ca620fa"
      },
      "execution_count": null,
      "outputs": [
        {
          "output_type": "stream",
          "name": "stdout",
          "text": [
            "<tf.Variable 'Variable:0' shape=(5, 5) dtype=float32, numpy=\n",
            "array([[0.4325062 , 0.28824604, 0.90831804, 0.09905183, 0.22147405],\n",
            "       [0.46390414, 0.7664652 , 0.9632522 , 0.2792846 , 0.9182683 ],\n",
            "       [0.21588087, 0.7538049 , 0.88359547, 0.64630425, 0.9303011 ],\n",
            "       [0.06127071, 0.97695935, 0.21008551, 0.11843157, 0.7989433 ],\n",
            "       [0.90570736, 0.07175899, 0.05108011, 0.98714995, 0.46430957]],\n",
            "      dtype=float32)>\n",
            "\n",
            "\n",
            "<tf.Variable 'Variable:0' shape=(5, 5) dtype=float32, numpy=\n",
            "array([[0.4325062 , 0.28824604, 0.90831804, 0.09905183, 0.22147405],\n",
            "       [0.46390414, 0.7664652 , 1.        , 1.        , 0.9182683 ],\n",
            "       [0.21588087, 0.7538049 , 1.        , 1.        , 0.9303011 ],\n",
            "       [0.06127071, 0.97695935, 0.21008551, 0.11843157, 0.7989433 ],\n",
            "       [0.90570736, 0.07175899, 0.05108011, 0.98714995, 0.46430957]],\n",
            "      dtype=float32)>\n"
          ]
        }
      ]
    },
    {
      "cell_type": "markdown",
      "source": [
        "### **Exercise 1.43**: Define a function \\( z = x^2 + y^2 \\). Create two variables `x` and `y` initialized with random values. Compute the gradient of \\( z \\) with respect to `x` and `y`.\n",
        "\n",
        "```python\n",
        "x = tf.Variable(3.0)\n",
        "y = tf.Variable(4.0)\n",
        "\n",
        "# Function\n",
        "with tf.GradientTape() as tape:\n",
        "    z = x**2 + y**2\n",
        "\n",
        "# Compute gradient\n",
        "gradients = tape.gradient(z, [x, y])\n",
        "\n",
        "print(gradients)\n",
        "```"
      ],
      "metadata": {
        "id": "7_ZlTsEPOCUN"
      }
    },
    {
      "cell_type": "code",
      "source": [
        "x = tf.Variable(3.0)\n",
        "y = tf.Variable(4.0)\n",
        "\n",
        "# Function\n",
        "with tf.GradientTape() as tape:\n",
        "    z = x**2 + y**2\n",
        "\n",
        "# Compute gradient\n",
        "gradients = tape.gradient(z, [x, y])\n",
        "\n",
        "print(gradients)"
      ],
      "metadata": {
        "colab": {
          "base_uri": "https://localhost:8080/"
        },
        "id": "Y_Qv96w2N0aB",
        "outputId": "0756479b-3135-40c9-b2e1-20cc9dff3f12"
      },
      "execution_count": null,
      "outputs": [
        {
          "output_type": "stream",
          "name": "stdout",
          "text": [
            "[<tf.Tensor: shape=(), dtype=float32, numpy=6.0>, <tf.Tensor: shape=(), dtype=float32, numpy=8.0>]\n"
          ]
        }
      ]
    },
    {
      "cell_type": "markdown",
      "source": [
        "### **Exercise 1.44**: Create a tensor of shape `(4, 4, 4)` with random values. Reshape this tensor to have a shape `(8, -1)`, inferring the second dimension.\n",
        "\n",
        "```python\n",
        "tensor = tf.random.uniform((4, 4, 4))\n",
        "\n",
        "# Reshape with inferred dimension\n",
        "reshaped = tf.reshape(tensor, (-1, 8))\n",
        "\n",
        "print(reshaped)\n",
        "```"
      ],
      "metadata": {
        "id": "phesLwu5PjTv"
      }
    },
    {
      "cell_type": "code",
      "source": [
        "tensor = tf.random.uniform((4, 4, 4))\n",
        "print(tensor)\n",
        "print(\"\\n\")\n",
        "# Reshape with inferred dimension\n",
        "reshaped = tf.reshape(tensor, (-1, 8))\n",
        "print(reshaped)"
      ],
      "metadata": {
        "colab": {
          "base_uri": "https://localhost:8080/"
        },
        "id": "T8wCS8ksPrcQ",
        "outputId": "b141e318-7322-4273-f06c-18d654227b38"
      },
      "execution_count": null,
      "outputs": [
        {
          "output_type": "stream",
          "name": "stdout",
          "text": [
            "tf.Tensor(\n",
            "[[[0.39202952 0.12933671 0.89229774 0.21568716]\n",
            "  [0.5189315  0.54685616 0.91969323 0.1384418 ]\n",
            "  [0.7387233  0.6877178  0.01725447 0.29777896]\n",
            "  [0.5033865  0.4073428  0.12930667 0.47961998]]\n",
            "\n",
            " [[0.36173677 0.19173634 0.8928641  0.52175117]\n",
            "  [0.9752146  0.9304764  0.03006053 0.50270665]\n",
            "  [0.87035894 0.85412574 0.55552185 0.7563096 ]\n",
            "  [0.98305357 0.5632361  0.9541104  0.98903096]]\n",
            "\n",
            " [[0.30577564 0.4996208  0.55603814 0.50444496]\n",
            "  [0.7078717  0.7890576  0.20206034 0.72639   ]\n",
            "  [0.49509478 0.8939104  0.7782403  0.33042037]\n",
            "  [0.03286135 0.9814327  0.41533935 0.06160271]]\n",
            "\n",
            " [[0.1498574  0.52639174 0.5000609  0.8085041 ]\n",
            "  [0.3234067  0.10109699 0.63134885 0.7816037 ]\n",
            "  [0.93181586 0.55360866 0.10659075 0.7475195 ]\n",
            "  [0.6670209  0.54243815 0.7739105  0.5259634 ]]], shape=(4, 4, 4), dtype=float32)\n",
            "\n",
            "\n",
            "tf.Tensor(\n",
            "[[0.39202952 0.12933671 0.89229774 0.21568716 0.5189315  0.54685616\n",
            "  0.91969323 0.1384418 ]\n",
            " [0.7387233  0.6877178  0.01725447 0.29777896 0.5033865  0.4073428\n",
            "  0.12930667 0.47961998]\n",
            " [0.36173677 0.19173634 0.8928641  0.52175117 0.9752146  0.9304764\n",
            "  0.03006053 0.50270665]\n",
            " [0.87035894 0.85412574 0.55552185 0.7563096  0.98305357 0.5632361\n",
            "  0.9541104  0.98903096]\n",
            " [0.30577564 0.4996208  0.55603814 0.50444496 0.7078717  0.7890576\n",
            "  0.20206034 0.72639   ]\n",
            " [0.49509478 0.8939104  0.7782403  0.33042037 0.03286135 0.9814327\n",
            "  0.41533935 0.06160271]\n",
            " [0.1498574  0.52639174 0.5000609  0.8085041  0.3234067  0.10109699\n",
            "  0.63134885 0.7816037 ]\n",
            " [0.93181586 0.55360866 0.10659075 0.7475195  0.6670209  0.54243815\n",
            "  0.7739105  0.5259634 ]], shape=(8, 8), dtype=float32)\n"
          ]
        }
      ]
    },
    {
      "cell_type": "markdown",
      "source": [
        "### **Exercise 1.45**: Create a tensor of integer indices `[0, 1, 2, 1]`. Convert these indices to a one-hot encoded tensor with a depth of 4.\n",
        "\n",
        "```python\n",
        "indices = tf.constant([0, 1, 2, 1])\n",
        "\n",
        "# One-hot encoding\n",
        "one_hot = tf.one_hot(indices, depth=3)\n",
        "\n",
        "print(one_hot)\n",
        "```"
      ],
      "metadata": {
        "id": "kELkJ_F9QIIX"
      }
    },
    {
      "cell_type": "code",
      "source": [
        "indices = tf.constant([0, 1, 2, 1])\n",
        "print(indices)\n",
        "print(\"\\n\")\n",
        "# One-hot encoding\n",
        "one_hot = tf.one_hot(indices, depth=3)\n",
        "print(one_hot)"
      ],
      "metadata": {
        "colab": {
          "base_uri": "https://localhost:8080/"
        },
        "id": "NCaoeM7EPyD_",
        "outputId": "9eb90ced-3dd9-4f47-bafe-397f4716086d"
      },
      "execution_count": null,
      "outputs": [
        {
          "output_type": "stream",
          "name": "stdout",
          "text": [
            "tf.Tensor([0 1 2 1], shape=(4,), dtype=int32)\n",
            "\n",
            "\n",
            "tf.Tensor(\n",
            "[[1. 0. 0.]\n",
            " [0. 1. 0.]\n",
            " [0. 0. 1.]\n",
            " [0. 1. 0.]], shape=(4, 3), dtype=float32)\n"
          ]
        }
      ]
    },
    {
      "cell_type": "markdown",
      "source": [
        "### **Exercise 1.46**: Create a batch of 3 matrices, each of shape `(4, 4)`, with random values. Compute the inverse of each matrix in the batch.\n",
        "\n",
        "```python\n",
        "# Batch of matrices\n",
        "batch_matrices = tf.random.uniform((3, 4, 4))\n",
        "\n",
        "# Batch matrix inversion\n",
        "inverted_matrices = tf.linalg.inv(batch_matrices)\n",
        "\n",
        "print(inverted_matrices)\n",
        "```"
      ],
      "metadata": {
        "id": "LhCkppKcTSWd"
      }
    },
    {
      "cell_type": "code",
      "source": [
        "batch_matrices = tf.random.uniform((3, 4, 4))\n",
        "print(batch_matrices)\n",
        "print(\"\\n\")\n",
        "# Batch matrix inversion\n",
        "inverted_matrices = tf.linalg.inv(batch_matrices)\n",
        "\n",
        "print(inverted_matrices)"
      ],
      "metadata": {
        "colab": {
          "base_uri": "https://localhost:8080/"
        },
        "id": "daVyrgzsQW0Y",
        "outputId": "5e9a56db-6380-4856-cebd-2c8e39617e44"
      },
      "execution_count": null,
      "outputs": [
        {
          "output_type": "stream",
          "name": "stdout",
          "text": [
            "tf.Tensor(\n",
            "[[[0.86242926 0.54649913 0.33367538 0.6375767 ]\n",
            "  [0.15247214 0.16092706 0.03879619 0.3351897 ]\n",
            "  [0.9687394  0.58670473 0.6707103  0.41152215]\n",
            "  [0.21115458 0.18559194 0.90128255 0.16320539]]\n",
            "\n",
            " [[0.3176098  0.5182067  0.53228605 0.905663  ]\n",
            "  [0.8949578  0.03394866 0.76191616 0.19996047]\n",
            "  [0.60888755 0.23472798 0.86348295 0.2910093 ]\n",
            "  [0.7135004  0.7675817  0.5946069  0.54300535]]\n",
            "\n",
            " [[0.5452622  0.7498468  0.20748651 0.48811293]\n",
            "  [0.06483603 0.9891709  0.2525226  0.33118272]\n",
            "  [0.8436744  0.12197447 0.48864317 0.263489  ]\n",
            "  [0.29201293 0.98951495 0.6710489  0.9000653 ]]], shape=(3, 4, 4), dtype=float32)\n",
            "\n",
            "\n",
            "tf.Tensor(\n",
            "[[[ 1.31953373e+01 -1.54361601e+01 -8.79151535e+00  2.32165313e+00]\n",
            "  [-2.88347244e+01  3.09110870e+01  2.24021320e+01 -7.32637691e+00]\n",
            "  [ 1.45680416e+00 -1.91324770e+00 -1.35837376e+00  1.66340995e+00]\n",
            "  [ 7.67281151e+00 -4.61416054e+00 -6.59909296e+00  2.26883698e+00]]\n",
            "\n",
            " [[-1.73119947e-01  2.16992092e+00 -2.30848122e+00  7.26842642e-01]\n",
            "  [-9.68229115e-01 -1.62308931e+00  8.01031113e-01  1.78328919e+00]\n",
            "  [-2.41938010e-01 -1.42835963e+00  3.05491567e+00 -7.07689285e-01]\n",
            "  [ 1.86107588e+00  1.00722194e+00 -1.44423735e+00 -8.59339118e-01]]\n",
            "\n",
            " [[ 1.24373269e+00 -2.44366109e-01  6.70526028e-01 -7.80864000e-01]\n",
            "  [ 1.13153204e-01  1.56938171e+00  3.04598641e-02 -6.47741377e-01]\n",
            "  [-3.16227651e+00  1.53479028e+00  1.69995522e+00  6.52544498e-01]\n",
            "  [ 1.82974422e+00 -2.79033971e+00 -1.51844072e+00  1.58997679e+00]]], shape=(3, 4, 4), dtype=float32)\n"
          ]
        }
      ]
    },
    {
      "cell_type": "markdown",
      "source": [
        "### **Exercise 1.47**: Create two tensors of shape `(3, 4)` with random values. Concatenate these tensors along a new axis.\n",
        "\n",
        "```python\n",
        "tensor1 = tf.random.uniform((3, 4))\n",
        "tensor2 = tf.random.uniform((3, 4))\n",
        "\n",
        "# Concatenate along a new axis\n",
        "concatenated = tf.stack([tensor1, tensor2], axis=0)\n",
        "\n",
        "print(concatenated)\n",
        "```"
      ],
      "metadata": {
        "id": "FMnCJrztT0dv"
      }
    },
    {
      "cell_type": "code",
      "source": [
        "tensor1 = tf.random.uniform((3, 4))\n",
        "print(tensor1)\n",
        "print(\"\\n\")\n",
        "tensor2 = tf.random.uniform((3, 4))\n",
        "print(tensor2)\n",
        "print(\"\\n\")\n",
        "# Concatenate along a new axis\n",
        "concatenated = tf.stack([tensor1, tensor2], axis=0)\n",
        "print(concatenated)"
      ],
      "metadata": {
        "colab": {
          "base_uri": "https://localhost:8080/"
        },
        "id": "yE5Y2YpgTniQ",
        "outputId": "bc484829-960c-43cc-e6e1-0ca047401631"
      },
      "execution_count": null,
      "outputs": [
        {
          "output_type": "stream",
          "name": "stdout",
          "text": [
            "tf.Tensor(\n",
            "[[0.73910487 0.28574753 0.1397177  0.6779921 ]\n",
            " [0.45329213 0.49542665 0.5946841  0.96912897]\n",
            " [0.44934607 0.5424191  0.56482923 0.5133703 ]], shape=(3, 4), dtype=float32)\n",
            "\n",
            "\n",
            "tf.Tensor(\n",
            "[[0.18543243 0.33425295 0.33643305 0.20439816]\n",
            " [0.4855467  0.10545135 0.0451051  0.42295265]\n",
            " [0.48240793 0.05822515 0.0625062  0.73378444]], shape=(3, 4), dtype=float32)\n",
            "\n",
            "\n",
            "tf.Tensor(\n",
            "[[[0.73910487 0.28574753 0.1397177  0.6779921 ]\n",
            "  [0.45329213 0.49542665 0.5946841  0.96912897]\n",
            "  [0.44934607 0.5424191  0.56482923 0.5133703 ]]\n",
            "\n",
            " [[0.18543243 0.33425295 0.33643305 0.20439816]\n",
            "  [0.4855467  0.10545135 0.0451051  0.42295265]\n",
            "  [0.48240793 0.05822515 0.0625062  0.73378444]]], shape=(2, 3, 4), dtype=float32)\n"
          ]
        }
      ]
    },
    {
      "cell_type": "markdown",
      "source": [
        "### **Exercise 1.48**: Create a tensor of shape `(4, 4)` with random values. Compute the determinant of this matrix.\n",
        "\n",
        "```python\n",
        "matrix = tf.random.uniform((4, 4))\n",
        "\n",
        "# Compute determinant\n",
        "determinant = tf.linalg.det(matrix)\n",
        "\n",
        "print(determinant)\n",
        "```"
      ],
      "metadata": {
        "id": "1ENhnsbKUdHQ"
      }
    },
    {
      "cell_type": "code",
      "source": [
        "matrix = tf.random.uniform((4, 4))\n",
        "\n",
        "# Compute determinant\n",
        "determinant = tf.linalg.det(matrix)\n",
        "\n",
        "print(determinant)"
      ],
      "metadata": {
        "colab": {
          "base_uri": "https://localhost:8080/"
        },
        "id": "XiQKDLg4UT0l",
        "outputId": "0f177fbe-da15-4689-d9f9-77c859965977"
      },
      "execution_count": null,
      "outputs": [
        {
          "output_type": "stream",
          "name": "stdout",
          "text": [
            "tf.Tensor(-0.32389793, shape=(), dtype=float32)\n"
          ]
        }
      ]
    },
    {
      "cell_type": "markdown",
      "source": [
        "### **Exercise 1.49**: Create a batch of 3 positive-definite matrices, each of shape `(4, 4)`, with random values. Perform Cholesky decomposition on each matrix in the batch.\n",
        "\n",
        "```python\n",
        "# Batch of positive-definite matrices\n",
        "batch_matrices = tf.random.uniform((3, 4, 4))\n",
        "batch_matrices = tf.matmul(batch_matrices, batch_matrices, transpose_b=True)\n",
        "\n",
        "# Cholesky decomposition\n",
        "cholesky_decomp = tf.linalg.cholesky(batch_matrices)\n",
        "print(cholesky_decomp)\n",
        "```\n"
      ],
      "metadata": {
        "id": "bV8aNy1KVQeB"
      }
    },
    {
      "cell_type": "code",
      "source": [
        "# Batch of positive-definite matrices\n",
        "batch_matrices = tf.random.uniform((3, 4, 4))\n",
        "print(batch_matrices)\n",
        "print(\"\\n\")\n",
        "batch_matrices = tf.matmul(batch_matrices, batch_matrices, transpose_b=True)\n",
        "print(batch_matrices)\n",
        "print(\"\\n\")\n",
        "# Cholesky decomposition\n",
        "cholesky_decomp = tf.linalg.cholesky(batch_matrices)\n",
        "print(cholesky_decomp)"
      ],
      "metadata": {
        "colab": {
          "base_uri": "https://localhost:8080/"
        },
        "id": "gBZnBneVVL7g",
        "outputId": "6c9155df-0d64-408c-8cf7-df705ebf33d3"
      },
      "execution_count": null,
      "outputs": [
        {
          "output_type": "stream",
          "name": "stdout",
          "text": [
            "tf.Tensor(\n",
            "[[[0.3212211  0.55865955 0.32018745 0.88594365]\n",
            "  [0.40889728 0.4788828  0.59713125 0.46238065]\n",
            "  [0.16048479 0.53426135 0.18632841 0.6329986 ]\n",
            "  [0.49749982 0.07061589 0.55024374 0.10969508]]\n",
            "\n",
            " [[0.0410322  0.17499316 0.20238101 0.6626613 ]\n",
            "  [0.06052661 0.42403042 0.5485209  0.30200505]\n",
            "  [0.52050006 0.9704243  0.18596363 0.96611476]\n",
            "  [0.7981188  0.70230055 0.22502637 0.08154845]]\n",
            "\n",
            " [[0.01508486 0.13607883 0.6716677  0.37769198]\n",
            "  [0.19850993 0.36502314 0.68567073 0.6758326 ]\n",
            "  [0.7761085  0.47125196 0.98519874 0.6962539 ]\n",
            "  [0.6266335  0.48116314 0.45561588 0.36368763]]], shape=(3, 4, 4), dtype=float32)\n",
            "\n",
            "\n",
            "tf.Tensor(\n",
            "[[[1.3026996  0.99971604 0.9704824  0.47262245]\n",
            "  [0.99971604 0.96688735 0.72541916 0.61653167]\n",
            "  [0.9704824  0.72541916 0.7465961  0.28953135]\n",
            "  [0.47262245 0.61653167 0.28953135 0.5672938 ]]\n",
            "\n",
            " [[0.51238436 0.38782325 0.86901724 0.25522643]\n",
            "  [0.38782325 0.5755475  0.83677    0.49416393]\n",
            "  [0.86901724 0.83677    2.180604   1.2175823 ]\n",
            "  [0.25522643 0.49416393 1.2175823  1.1875068 ]]\n",
            "\n",
            " [[0.6125337  0.7684659  1.0005306  0.51831317]\n",
            "  [0.7684659  1.0995421  1.4721562  0.85822314]\n",
            "  [1.0005306  1.4721562  2.279809   1.4151758 ]\n",
            "  [0.51831317 0.85822314 1.4151758  0.96404207]]], shape=(3, 4, 4), dtype=float32)\n",
            "\n",
            "\n",
            "tf.Tensor(\n",
            "[[[ 1.1413586   0.          0.          0.        ]\n",
            "  [ 0.87590003  0.4468629   0.          0.        ]\n",
            "  [ 0.850287   -0.04329572  0.14742313  0.        ]\n",
            "  [ 0.4140876   0.5680318  -0.25754848  0.08266784]]\n",
            "\n",
            " [[ 0.7158103   0.          0.          0.        ]\n",
            "  [ 0.54179615  0.5310409   0.          0.        ]\n",
            "  [ 1.2140329   0.33709577  0.77012634  0.        ]\n",
            "  [ 0.35655597  0.56677985  0.77085096  0.3806889 ]]\n",
            "\n",
            " [[ 0.7826453   0.          0.          0.        ]\n",
            "  [ 0.9818827   0.36803332  0.          0.        ]\n",
            "  [ 1.278396    0.58940643  0.5459969   0.        ]\n",
            "  [ 0.6622581   0.5650668   0.43130973  0.14187217]]], shape=(3, 4, 4), dtype=float32)\n"
          ]
        }
      ]
    },
    {
      "cell_type": "markdown",
      "source": [
        "### **Exercise 1.50**: Create a tensor of shape `(3, 4)` with random values. Compute the cumulative sum of this tensor along the second axis.\n",
        "\n",
        "```python\n",
        "tensor = tf.random.uniform((3, 4))\n",
        "\n",
        "# Cumulative sum along axis 1\n",
        "cumsum = tf.math.cumsum(tensor, axis=1)\n",
        "\n",
        "print(cumsum)\n",
        "```"
      ],
      "metadata": {
        "id": "L6I1uYdDV6eM"
      }
    },
    {
      "cell_type": "code",
      "source": [
        "tensor = tf.random.uniform((3, 4))\n",
        "print(tensor)\n",
        "print(\"\\n\")\n",
        "# Cumulative sum along axis 1\n",
        "cumsum = tf.math.cumsum(tensor, axis=1)\n",
        "\n",
        "print(cumsum)"
      ],
      "metadata": {
        "colab": {
          "base_uri": "https://localhost:8080/"
        },
        "id": "knLBjDxOVlBT",
        "outputId": "ee7ffd8a-0943-422a-a815-d7c9f3a96b82"
      },
      "execution_count": null,
      "outputs": [
        {
          "output_type": "stream",
          "name": "stdout",
          "text": [
            "tf.Tensor(\n",
            "[[0.39759624 0.36899745 0.3430133  0.56731474]\n",
            " [0.05217099 0.10449576 0.96972203 0.3056463 ]\n",
            " [0.9197496  0.7126144  0.8989712  0.3569312 ]], shape=(3, 4), dtype=float32)\n",
            "\n",
            "\n",
            "tf.Tensor(\n",
            "[[0.39759624 0.7665937  1.109607   1.6769217 ]\n",
            " [0.05217099 0.15666676 1.1263888  1.4320351 ]\n",
            " [0.9197496  1.632364   2.5313354  2.8882666 ]], shape=(3, 4), dtype=float32)\n"
          ]
        }
      ]
    },
    {
      "cell_type": "code",
      "source": [],
      "metadata": {
        "id": "toxvnbwkWIJh"
      },
      "execution_count": null,
      "outputs": []
    }
  ]
}